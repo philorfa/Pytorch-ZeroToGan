{
  "nbformat": 4,
  "nbformat_minor": 0,
  "metadata": {
    "kernelspec": {
      "display_name": "Python 3",
      "language": "python",
      "name": "python3"
    },
    "language_info": {
      "codemirror_mode": {
        "name": "ipython",
        "version": 3
      },
      "file_extension": ".py",
      "mimetype": "text/x-python",
      "name": "python",
      "nbconvert_exporter": "python",
      "pygments_lexer": "ipython3",
      "version": "3.7.6"
    },
    "colab": {
      "name": "02-insurance-linear.ipynb",
      "provenance": []
    }
  },
  "cells": [
    {
      "cell_type": "code",
      "metadata": {
        "id": "_oyteaBIjcTh",
        "colab_type": "code",
        "colab": {
          "base_uri": "https://localhost:8080/",
          "height": 54
        },
        "outputId": "5d8dd80c-d7a9-4207-a330-5c3b14498df5"
      },
      "source": [
        "# Uncomment and run the commands below if imports fail\n",
        "# !conda install numpy pytorch torchvision cpuonly -c pytorch -y\n",
        "# !pip install matplotlib --upgrade --quiet\n",
        "!pip install jovian --upgrade --quiet"
      ],
      "execution_count": 1,
      "outputs": [
        {
          "output_type": "stream",
          "text": [
            "\u001b[?25l\r\u001b[K     |████                            | 10kB 12.1MB/s eta 0:00:01\r\u001b[K     |███████▉                        | 20kB 1.7MB/s eta 0:00:01\r\u001b[K     |███████████▉                    | 30kB 2.2MB/s eta 0:00:01\r\u001b[K     |███████████████▊                | 40kB 2.4MB/s eta 0:00:01\r\u001b[K     |███████████████████▋            | 51kB 1.9MB/s eta 0:00:01\r\u001b[K     |███████████████████████▋        | 61kB 2.2MB/s eta 0:00:01\r\u001b[K     |███████████████████████████▌    | 71kB 2.4MB/s eta 0:00:01\r\u001b[K     |███████████████████████████████▍| 81kB 2.7MB/s eta 0:00:01\r\u001b[K     |████████████████████████████████| 92kB 2.4MB/s \n",
            "\u001b[?25h  Building wheel for uuid (setup.py) ... \u001b[?25l\u001b[?25hdone\n"
          ],
          "name": "stdout"
        }
      ]
    },
    {
      "cell_type": "code",
      "metadata": {
        "id": "GYDaqOhFjcTy",
        "colab_type": "code",
        "colab": {}
      },
      "source": [
        "import torch\n",
        "import jovian\n",
        "import torchvision\n",
        "import torch.nn as nn\n",
        "import pandas as pd\n",
        "import matplotlib.pyplot as plt\n",
        "import torch.nn.functional as F\n",
        "from torchvision.datasets.utils import download_url\n",
        "from torch.utils.data import DataLoader, TensorDataset, random_split"
      ],
      "execution_count": 0,
      "outputs": []
    },
    {
      "cell_type": "code",
      "metadata": {
        "id": "jZ8J4XP-jcT9",
        "colab_type": "code",
        "colab": {}
      },
      "source": [
        "project_name='02-insurance-linear-regression' # will be used by jovian.commit"
      ],
      "execution_count": 0,
      "outputs": []
    },
    {
      "cell_type": "markdown",
      "metadata": {
        "id": "6kSGjvObjcUJ",
        "colab_type": "text"
      },
      "source": [
        "## Step 1: Download and explore the data\n",
        "\n",
        "Let us begin by downloading the data. We'll use the `download_url` function from PyTorch to get the data as a CSV (comma-separated values) file. "
      ]
    },
    {
      "cell_type": "code",
      "metadata": {
        "_cell_guid": "79c7e3d0-c299-4dcb-8224-4455121ee9b0",
        "_uuid": "d629ff2d2480ee46fbb7e2d37f6b5fab8052498a",
        "id": "fBJJa6tGjcUK",
        "colab_type": "code",
        "colab": {
          "base_uri": "https://localhost:8080/",
          "height": 35
        },
        "outputId": "6e0e9566-5fe9-429a-dfb1-e4ef3d027e5b"
      },
      "source": [
        "DATASET_URL = \"https://hub.jovian.ml/wp-content/uploads/2020/05/insurance.csv\"\n",
        "DATA_FILENAME = \"insurance.csv\"\n",
        "download_url(DATASET_URL, '.')"
      ],
      "execution_count": 83,
      "outputs": [
        {
          "output_type": "stream",
          "text": [
            "Using downloaded and verified file: ./insurance.csv\n"
          ],
          "name": "stdout"
        }
      ]
    },
    {
      "cell_type": "markdown",
      "metadata": {
        "id": "Z5GwN8c9jcUb",
        "colab_type": "text"
      },
      "source": [
        "To load the dataset into memory, we'll use the `read_csv` function from the `pandas` library. The data will be loaded as a Pandas dataframe. See this short tutorial to learn more: https://data36.com/pandas-tutorial-1-basics-reading-data-files-dataframes-data-selection/"
      ]
    },
    {
      "cell_type": "code",
      "metadata": {
        "id": "cS8UCTH_jcUd",
        "colab_type": "code",
        "colab": {
          "base_uri": "https://localhost:8080/",
          "height": 198
        },
        "outputId": "5937db09-82d7-44d1-e622-6e43a343079d"
      },
      "source": [
        "dataframe_raw = pd.read_csv(DATA_FILENAME)\n",
        "dataframe_raw.head()"
      ],
      "execution_count": 84,
      "outputs": [
        {
          "output_type": "execute_result",
          "data": {
            "text/html": [
              "<div>\n",
              "<style scoped>\n",
              "    .dataframe tbody tr th:only-of-type {\n",
              "        vertical-align: middle;\n",
              "    }\n",
              "\n",
              "    .dataframe tbody tr th {\n",
              "        vertical-align: top;\n",
              "    }\n",
              "\n",
              "    .dataframe thead th {\n",
              "        text-align: right;\n",
              "    }\n",
              "</style>\n",
              "<table border=\"1\" class=\"dataframe\">\n",
              "  <thead>\n",
              "    <tr style=\"text-align: right;\">\n",
              "      <th></th>\n",
              "      <th>age</th>\n",
              "      <th>sex</th>\n",
              "      <th>bmi</th>\n",
              "      <th>children</th>\n",
              "      <th>smoker</th>\n",
              "      <th>region</th>\n",
              "      <th>charges</th>\n",
              "    </tr>\n",
              "  </thead>\n",
              "  <tbody>\n",
              "    <tr>\n",
              "      <th>0</th>\n",
              "      <td>19</td>\n",
              "      <td>female</td>\n",
              "      <td>27.900</td>\n",
              "      <td>0</td>\n",
              "      <td>yes</td>\n",
              "      <td>southwest</td>\n",
              "      <td>16884.92400</td>\n",
              "    </tr>\n",
              "    <tr>\n",
              "      <th>1</th>\n",
              "      <td>18</td>\n",
              "      <td>male</td>\n",
              "      <td>33.770</td>\n",
              "      <td>1</td>\n",
              "      <td>no</td>\n",
              "      <td>southeast</td>\n",
              "      <td>1725.55230</td>\n",
              "    </tr>\n",
              "    <tr>\n",
              "      <th>2</th>\n",
              "      <td>28</td>\n",
              "      <td>male</td>\n",
              "      <td>33.000</td>\n",
              "      <td>3</td>\n",
              "      <td>no</td>\n",
              "      <td>southeast</td>\n",
              "      <td>4449.46200</td>\n",
              "    </tr>\n",
              "    <tr>\n",
              "      <th>3</th>\n",
              "      <td>33</td>\n",
              "      <td>male</td>\n",
              "      <td>22.705</td>\n",
              "      <td>0</td>\n",
              "      <td>no</td>\n",
              "      <td>northwest</td>\n",
              "      <td>21984.47061</td>\n",
              "    </tr>\n",
              "    <tr>\n",
              "      <th>4</th>\n",
              "      <td>32</td>\n",
              "      <td>male</td>\n",
              "      <td>28.880</td>\n",
              "      <td>0</td>\n",
              "      <td>no</td>\n",
              "      <td>northwest</td>\n",
              "      <td>3866.85520</td>\n",
              "    </tr>\n",
              "  </tbody>\n",
              "</table>\n",
              "</div>"
            ],
            "text/plain": [
              "   age     sex     bmi  children smoker     region      charges\n",
              "0   19  female  27.900         0    yes  southwest  16884.92400\n",
              "1   18    male  33.770         1     no  southeast   1725.55230\n",
              "2   28    male  33.000         3     no  southeast   4449.46200\n",
              "3   33    male  22.705         0     no  northwest  21984.47061\n",
              "4   32    male  28.880         0     no  northwest   3866.85520"
            ]
          },
          "metadata": {
            "tags": []
          },
          "execution_count": 84
        }
      ]
    },
    {
      "cell_type": "markdown",
      "metadata": {
        "id": "SOdz0-H-jcUj",
        "colab_type": "text"
      },
      "source": [
        "We're going to do a slight customization of the data, so that you every participant receives a slightly different version of the dataset. Fill in your name below as a string (enter at least 5 characters)"
      ]
    },
    {
      "cell_type": "code",
      "metadata": {
        "id": "3Ao1ixCFjcUl",
        "colab_type": "code",
        "colab": {}
      },
      "source": [
        "your_name = 'PhilOrfa'"
      ],
      "execution_count": 0,
      "outputs": []
    },
    {
      "cell_type": "markdown",
      "metadata": {
        "id": "Ysoz0gw6jcU1",
        "colab_type": "text"
      },
      "source": [
        "The `customize_dataset` function will customize the dataset slightly using your name as a source of random numbers."
      ]
    },
    {
      "cell_type": "code",
      "metadata": {
        "id": "ATHwJ_FZjcU3",
        "colab_type": "code",
        "colab": {}
      },
      "source": [
        "def customize_dataset(dataframe_raw, rand_str):\n",
        "    dataframe = dataframe_raw.copy(deep=True)\n",
        "    # drop some rows\n",
        "    dataframe = dataframe.sample(int(0.95*len(dataframe)), random_state=int(ord(rand_str[0])))\n",
        "    # scale input\n",
        "    dataframe.bmi = dataframe.bmi * ord(rand_str[1])/100.\n",
        "    # scale target\n",
        "    dataframe.charges = dataframe.charges * ord(rand_str[2])/100.\n",
        "    # drop column\n",
        "    if ord(rand_str[3]) % 2 == 1:\n",
        "        dataframe = dataframe.drop(['region'], axis=1)\n",
        "    return dataframe"
      ],
      "execution_count": 0,
      "outputs": []
    },
    {
      "cell_type": "code",
      "metadata": {
        "id": "AK9VXzX5jcVH",
        "colab_type": "code",
        "colab": {
          "base_uri": "https://localhost:8080/",
          "height": 198
        },
        "outputId": "ca74c9ca-b63b-4ffc-e034-858aacc070ef"
      },
      "source": [
        "dataframe = customize_dataset(dataframe_raw, your_name)\n",
        "dataframe.head()"
      ],
      "execution_count": 87,
      "outputs": [
        {
          "output_type": "execute_result",
          "data": {
            "text/html": [
              "<div>\n",
              "<style scoped>\n",
              "    .dataframe tbody tr th:only-of-type {\n",
              "        vertical-align: middle;\n",
              "    }\n",
              "\n",
              "    .dataframe tbody tr th {\n",
              "        vertical-align: top;\n",
              "    }\n",
              "\n",
              "    .dataframe thead th {\n",
              "        text-align: right;\n",
              "    }\n",
              "</style>\n",
              "<table border=\"1\" class=\"dataframe\">\n",
              "  <thead>\n",
              "    <tr style=\"text-align: right;\">\n",
              "      <th></th>\n",
              "      <th>age</th>\n",
              "      <th>sex</th>\n",
              "      <th>bmi</th>\n",
              "      <th>children</th>\n",
              "      <th>smoker</th>\n",
              "      <th>region</th>\n",
              "      <th>charges</th>\n",
              "    </tr>\n",
              "  </thead>\n",
              "  <tbody>\n",
              "    <tr>\n",
              "      <th>240</th>\n",
              "      <td>23</td>\n",
              "      <td>female</td>\n",
              "      <td>38.1368</td>\n",
              "      <td>2</td>\n",
              "      <td>yes</td>\n",
              "      <td>northeast</td>\n",
              "      <td>40437.209715</td>\n",
              "    </tr>\n",
              "    <tr>\n",
              "      <th>651</th>\n",
              "      <td>53</td>\n",
              "      <td>female</td>\n",
              "      <td>41.1840</td>\n",
              "      <td>1</td>\n",
              "      <td>no</td>\n",
              "      <td>southeast</td>\n",
              "      <td>11108.696550</td>\n",
              "    </tr>\n",
              "    <tr>\n",
              "      <th>761</th>\n",
              "      <td>23</td>\n",
              "      <td>male</td>\n",
              "      <td>36.6080</td>\n",
              "      <td>1</td>\n",
              "      <td>no</td>\n",
              "      <td>southwest</td>\n",
              "      <td>2537.802750</td>\n",
              "    </tr>\n",
              "    <tr>\n",
              "      <th>836</th>\n",
              "      <td>36</td>\n",
              "      <td>male</td>\n",
              "      <td>32.7600</td>\n",
              "      <td>0</td>\n",
              "      <td>no</td>\n",
              "      <td>southwest</td>\n",
              "      <td>4622.344650</td>\n",
              "    </tr>\n",
              "    <tr>\n",
              "      <th>1147</th>\n",
              "      <td>20</td>\n",
              "      <td>female</td>\n",
              "      <td>33.1968</td>\n",
              "      <td>0</td>\n",
              "      <td>no</td>\n",
              "      <td>northwest</td>\n",
              "      <td>2374.647240</td>\n",
              "    </tr>\n",
              "  </tbody>\n",
              "</table>\n",
              "</div>"
            ],
            "text/plain": [
              "      age     sex      bmi  children smoker     region       charges\n",
              "240    23  female  38.1368         2    yes  northeast  40437.209715\n",
              "651    53  female  41.1840         1     no  southeast  11108.696550\n",
              "761    23    male  36.6080         1     no  southwest   2537.802750\n",
              "836    36    male  32.7600         0     no  southwest   4622.344650\n",
              "1147   20  female  33.1968         0     no  northwest   2374.647240"
            ]
          },
          "metadata": {
            "tags": []
          },
          "execution_count": 87
        }
      ]
    },
    {
      "cell_type": "markdown",
      "metadata": {
        "id": "GBgvbqCzjcVe",
        "colab_type": "text"
      },
      "source": [
        "Let us answer some basic questions about the dataset. \n",
        "\n",
        "\n",
        "**Q: How many rows does the dataset have?**"
      ]
    },
    {
      "cell_type": "code",
      "metadata": {
        "id": "Ai_iZik8jcVh",
        "colab_type": "code",
        "colab": {
          "base_uri": "https://localhost:8080/",
          "height": 35
        },
        "outputId": "43b2d736-2659-4b9e-d28d-e19bf472ce66"
      },
      "source": [
        "num_rows = len(dataframe.index)\n",
        "print(num_rows)"
      ],
      "execution_count": 88,
      "outputs": [
        {
          "output_type": "stream",
          "text": [
            "1271\n"
          ],
          "name": "stdout"
        }
      ]
    },
    {
      "cell_type": "markdown",
      "metadata": {
        "id": "AboyRHk4jcVw",
        "colab_type": "text"
      },
      "source": [
        "**Q: How many columns doe the dataset have**"
      ]
    },
    {
      "cell_type": "code",
      "metadata": {
        "id": "sl3AWvcBjcV0",
        "colab_type": "code",
        "colab": {
          "base_uri": "https://localhost:8080/",
          "height": 35
        },
        "outputId": "fade8852-730b-4018-a240-00b9ec84dc3c"
      },
      "source": [
        "num_cols = len(dataframe.columns)\n",
        "print(num_cols)"
      ],
      "execution_count": 89,
      "outputs": [
        {
          "output_type": "stream",
          "text": [
            "7\n"
          ],
          "name": "stdout"
        }
      ]
    },
    {
      "cell_type": "markdown",
      "metadata": {
        "id": "AMxJ1veMjcWE",
        "colab_type": "text"
      },
      "source": [
        "**Q: What are the column titles of the input variables?**"
      ]
    },
    {
      "cell_type": "code",
      "metadata": {
        "id": "-g5aRiGtjcWL",
        "colab_type": "code",
        "colab": {}
      },
      "source": [
        "input_cols = dataframe.columns.values[0:6].tolist()"
      ],
      "execution_count": 0,
      "outputs": []
    },
    {
      "cell_type": "markdown",
      "metadata": {
        "id": "D_Iu4noZjcWe",
        "colab_type": "text"
      },
      "source": [
        "**Q: Which of the input columns are non-numeric or categorial variables ?**\n",
        "\n",
        "Hint: `sex` is one of them. List the columns that are not numbers."
      ]
    },
    {
      "cell_type": "code",
      "metadata": {
        "id": "AQwc5HSkjcWg",
        "colab_type": "code",
        "colab": {}
      },
      "source": [
        "categorical_cols = dataframe.select_dtypes(exclude=['int', 'float']).columns.tolist()"
      ],
      "execution_count": 0,
      "outputs": []
    },
    {
      "cell_type": "markdown",
      "metadata": {
        "id": "puauyWUMjcWt",
        "colab_type": "text"
      },
      "source": [
        "**Q: What are the column titles of output/target variable(s)?**"
      ]
    },
    {
      "cell_type": "code",
      "metadata": {
        "id": "uKPOv825jcWy",
        "colab_type": "code",
        "colab": {}
      },
      "source": [
        "output_cols = dataframe.columns.values[6:7].tolist()"
      ],
      "execution_count": 0,
      "outputs": []
    },
    {
      "cell_type": "markdown",
      "metadata": {
        "id": "hWsPbIO4jcXJ",
        "colab_type": "text"
      },
      "source": [
        "**Q: (Optional) What is the minimum, maximum and average value of the `charges` column? Can you show the distribution of values in a graph?**\n",
        "Use this data visualization cheatsheet for referece: https://jovian.ml/aakashns/dataviz-cheatsheet"
      ]
    },
    {
      "cell_type": "code",
      "metadata": {
        "id": "vNut5e4ejcXL",
        "colab_type": "code",
        "colab": {
          "base_uri": "https://localhost:8080/",
          "height": 72
        },
        "outputId": "913d16ec-2a20-4418-d865-af874de6fb1a"
      },
      "source": [
        "print('Minimum=',dataframe.min(axis=0)['charges'])\n",
        "print('Maximum=',dataframe.max(axis=0)['charges'])\n",
        "print('Average=',dataframe.mean(axis=0)['charges'])"
      ],
      "execution_count": 95,
      "outputs": [
        {
          "output_type": "stream",
          "text": [
            "Minimum= 1177.967595\n",
            "Maximum= 66958.9494105\n",
            "Average= 14042.096754098315\n"
          ],
          "name": "stdout"
        }
      ]
    },
    {
      "cell_type": "markdown",
      "metadata": {
        "id": "fG2uBuwIjcXZ",
        "colab_type": "text"
      },
      "source": [
        "Remember to commit your notebook to Jovian after every step, so that you don't lose your work."
      ]
    },
    {
      "cell_type": "code",
      "metadata": {
        "id": "nQdr4oxgjcXb",
        "colab_type": "code",
        "colab": {}
      },
      "source": [
        "jovian.commit(project=project_name, environment=None)"
      ],
      "execution_count": 0,
      "outputs": []
    },
    {
      "cell_type": "markdown",
      "metadata": {
        "id": "j71xcUSKjcX3",
        "colab_type": "text"
      },
      "source": [
        "## Step 2: Prepare the dataset for training\n",
        "\n",
        "We need to convert the data from the Pandas dataframe into a PyTorch tensors for training. To do this, the first step is to convert it numpy arrays. If you've filled out `input_cols`, `categorial_cols` and `output_cols` correctly, this following function will perform the conversion to numpy arrays."
      ]
    },
    {
      "cell_type": "code",
      "metadata": {
        "id": "zFzIrnO6jcX8",
        "colab_type": "code",
        "colab": {}
      },
      "source": [
        "def dataframe_to_arrays(dataframe):\n",
        "    # Make a copy of the original dataframe\n",
        "    dataframe1 = dataframe.copy(deep=True)\n",
        "    # Convert non-numeric categorical columns to numbers\n",
        "    for col in categorical_cols:\n",
        "        dataframe1[col] = dataframe1[col].astype('category').cat.codes\n",
        "    # Extract input & outupts as numpy arrays\n",
        "    inputs_array = dataframe1[input_cols].to_numpy()\n",
        "    targets_array = dataframe1[output_cols].to_numpy()\n",
        "    return inputs_array, targets_array"
      ],
      "execution_count": 0,
      "outputs": []
    },
    {
      "cell_type": "markdown",
      "metadata": {
        "id": "a224pXUPjcYN",
        "colab_type": "text"
      },
      "source": [
        "Read through the [Pandas documentation](https://pandas.pydata.org/pandas-docs/stable/user_guide/categorical.html) to understand how we're converting categorical variables into numbers."
      ]
    },
    {
      "cell_type": "code",
      "metadata": {
        "id": "2Gpiqj8ajcYR",
        "colab_type": "code",
        "colab": {
          "base_uri": "https://localhost:8080/",
          "height": 272
        },
        "outputId": "f832866f-31c4-4c9b-f236-46aeceef4b54"
      },
      "source": [
        "inputs_array, targets_array = dataframe_to_arrays(dataframe)\n",
        "inputs_array, targets_array"
      ],
      "execution_count": 97,
      "outputs": [
        {
          "output_type": "execute_result",
          "data": {
            "text/plain": [
              "(array([[23.    ,  0.    , 38.1368,  2.    ,  1.    ,  0.    ],\n",
              "        [53.    ,  0.    , 41.184 ,  1.    ,  0.    ,  2.    ],\n",
              "        [23.    ,  1.    , 36.608 ,  1.    ,  0.    ,  3.    ],\n",
              "        ...,\n",
              "        [59.    ,  0.    , 38.2356,  1.    ,  1.    ,  0.    ],\n",
              "        [53.    ,  0.    , 34.58  ,  0.    ,  0.    ,  0.    ],\n",
              "        [48.    ,  0.    , 34.6632,  0.    ,  0.    ,  2.    ]]),\n",
              " array([[40437.209715 ],\n",
              "        [11108.69655  ],\n",
              "        [ 2537.80275  ],\n",
              "        ...,\n",
              "        [50291.6309175],\n",
              "        [11093.128725 ],\n",
              "        [ 8697.864735 ]]))"
            ]
          },
          "metadata": {
            "tags": []
          },
          "execution_count": 97
        }
      ]
    },
    {
      "cell_type": "markdown",
      "metadata": {
        "id": "qP4wb9c3jcYr",
        "colab_type": "text"
      },
      "source": [
        "**Q: Convert the numpy arrays `inputs_array` and `targets_array` into PyTorch tensors. Make sure that the data type is `torch.float32`.**"
      ]
    },
    {
      "cell_type": "code",
      "metadata": {
        "id": "GX2Ob7XhjcYt",
        "colab_type": "code",
        "colab": {}
      },
      "source": [
        "inputs = torch.from_numpy(inputs_array).float()\n",
        "targets = torch.from_numpy(targets_array).float()"
      ],
      "execution_count": 0,
      "outputs": []
    },
    {
      "cell_type": "code",
      "metadata": {
        "id": "nlRTKzoejcY9",
        "colab_type": "code",
        "colab": {
          "base_uri": "https://localhost:8080/",
          "height": 35
        },
        "outputId": "9d9341b8-23c4-479b-9d54-2d904810eb00"
      },
      "source": [
        "inputs.dtype, targets.dtype"
      ],
      "execution_count": 99,
      "outputs": [
        {
          "output_type": "execute_result",
          "data": {
            "text/plain": [
              "(torch.float32, torch.float32)"
            ]
          },
          "metadata": {
            "tags": []
          },
          "execution_count": 99
        }
      ]
    },
    {
      "cell_type": "markdown",
      "metadata": {
        "id": "-3FNq9-AjcZE",
        "colab_type": "text"
      },
      "source": [
        "Next, we need to create PyTorch datasets & data loaders for training & validation. We'll start by creating a `TensorDataset`."
      ]
    },
    {
      "cell_type": "code",
      "metadata": {
        "id": "IefG6GQ6jcZF",
        "colab_type": "code",
        "colab": {}
      },
      "source": [
        "dataset = TensorDataset(inputs, targets)"
      ],
      "execution_count": 0,
      "outputs": []
    },
    {
      "cell_type": "markdown",
      "metadata": {
        "id": "UtmVLgmUjcZP",
        "colab_type": "text"
      },
      "source": [
        "**Q: Pick a number between `0.1` and `0.2` to determine the fraction of data that will be used for creating the validation set. Then use `random_split` to create training & validation datasets. **"
      ]
    },
    {
      "cell_type": "code",
      "metadata": {
        "id": "_gyw3mPejcZS",
        "colab_type": "code",
        "colab": {}
      },
      "source": [
        "val_percent = 0.17 # between 0.1 and 0.2\n",
        "val_size = int(num_rows * val_percent)\n",
        "train_size = num_rows - val_size\n",
        "\n",
        "\n",
        "train_ds, val_ds = random_split(dataset, [train_size, val_size])"
      ],
      "execution_count": 0,
      "outputs": []
    },
    {
      "cell_type": "markdown",
      "metadata": {
        "id": "sD9vxrvujcZe",
        "colab_type": "text"
      },
      "source": [
        "Finally, we can create data loaders for training & validation.\n",
        "\n",
        "**Q: Pick a batch size for the data loader.**"
      ]
    },
    {
      "cell_type": "code",
      "metadata": {
        "id": "DtzG9dM6jcZg",
        "colab_type": "code",
        "colab": {}
      },
      "source": [
        "batch_size = 16"
      ],
      "execution_count": 0,
      "outputs": []
    },
    {
      "cell_type": "code",
      "metadata": {
        "id": "CRu5vKVwjcZp",
        "colab_type": "code",
        "colab": {}
      },
      "source": [
        "train_loader = DataLoader(train_ds, batch_size, shuffle=True)\n",
        "val_loader = DataLoader(val_ds, batch_size)"
      ],
      "execution_count": 0,
      "outputs": []
    },
    {
      "cell_type": "markdown",
      "metadata": {
        "id": "qcESQ11NjcZ2",
        "colab_type": "text"
      },
      "source": [
        "Let's look at a batch of data to verify everything is working fine so far."
      ]
    },
    {
      "cell_type": "code",
      "metadata": {
        "id": "35-D_BJSjcZ4",
        "colab_type": "code",
        "colab": {
          "base_uri": "https://localhost:8080/",
          "height": 1000
        },
        "outputId": "35dc29be-3e66-4cdc-9f2b-5e0f5670d147"
      },
      "source": [
        "for xb, yb in train_loader:\n",
        "    print(\"inputs:\", xb)\n",
        "    print(\"targets:\", yb)\n",
        "    break"
      ],
      "execution_count": 104,
      "outputs": [
        {
          "output_type": "stream",
          "text": [
            "inputs: tensor([[36.0000,  0.0000, 26.9360,  1.0000,  0.0000,  3.0000],\n",
            "        [18.0000,  0.0000, 40.7264,  0.0000,  0.0000,  2.0000],\n",
            "        [45.0000,  0.0000, 34.4240,  0.0000,  0.0000,  3.0000],\n",
            "        [56.0000,  1.0000, 22.9840,  0.0000,  0.0000,  3.0000],\n",
            "        [48.0000,  1.0000, 30.7840,  0.0000,  0.0000,  3.0000],\n",
            "        [35.0000,  0.0000, 35.4692,  3.0000,  1.0000,  1.0000],\n",
            "        [56.0000,  1.0000, 34.9752,  0.0000,  1.0000,  1.0000],\n",
            "        [28.0000,  0.0000, 36.1608,  0.0000,  0.0000,  1.0000],\n",
            "        [40.0000,  0.0000, 30.4720,  4.0000,  0.0000,  3.0000],\n",
            "        [27.0000,  0.0000, 31.8136,  1.0000,  0.0000,  0.0000],\n",
            "        [45.0000,  0.0000, 29.7440,  2.0000,  0.0000,  2.0000],\n",
            "        [50.0000,  0.0000, 28.1580,  1.0000,  0.0000,  0.0000],\n",
            "        [22.0000,  1.0000, 27.9136,  0.0000,  0.0000,  2.0000],\n",
            "        [59.0000,  1.0000, 31.0232,  3.0000,  1.0000,  0.0000],\n",
            "        [59.0000,  1.0000, 25.6880,  0.0000,  0.0000,  0.0000],\n",
            "        [18.0000,  0.0000, 27.3676,  0.0000,  0.0000,  0.0000],\n",
            "        [36.0000,  1.0000, 30.0352,  3.0000,  0.0000,  0.0000],\n",
            "        [62.0000,  0.0000, 31.7148,  2.0000,  0.0000,  1.0000],\n",
            "        [58.0000,  1.0000, 29.7388,  0.0000,  0.0000,  1.0000],\n",
            "        [38.0000,  0.0000, 28.7040,  0.0000,  0.0000,  3.0000],\n",
            "        [61.0000,  1.0000, 35.2716,  0.0000,  0.0000,  0.0000],\n",
            "        [29.0000,  0.0000, 22.7240,  0.0000,  1.0000,  0.0000],\n",
            "        [21.0000,  1.0000, 32.2608,  0.0000,  0.0000,  2.0000],\n",
            "        [32.0000,  0.0000, 24.5960,  1.0000,  0.0000,  2.0000],\n",
            "        [54.0000,  1.0000, 26.1040,  3.0000,  1.0000,  3.0000],\n",
            "        [21.0000,  1.0000, 32.5052,  0.0000,  0.0000,  1.0000],\n",
            "        [24.0000,  0.0000, 24.1384,  0.0000,  0.0000,  2.0000],\n",
            "        [40.0000,  0.0000, 26.4784,  1.0000,  0.0000,  0.0000],\n",
            "        [39.0000,  1.0000, 47.2472,  2.0000,  0.0000,  2.0000],\n",
            "        [18.0000,  1.0000, 28.4544,  1.0000,  1.0000,  0.0000],\n",
            "        [64.0000,  1.0000, 35.2352,  0.0000,  1.0000,  2.0000],\n",
            "        [42.0000,  0.0000, 27.6640,  0.0000,  1.0000,  1.0000],\n",
            "        [26.0000,  0.0000, 30.5292,  2.0000,  0.0000,  0.0000],\n",
            "        [60.0000,  0.0000, 33.7480,  0.0000,  1.0000,  2.0000],\n",
            "        [53.0000,  1.0000, 31.7148,  0.0000,  0.0000,  0.0000],\n",
            "        [21.0000,  0.0000, 26.8320,  0.0000,  0.0000,  3.0000],\n",
            "        [53.0000,  1.0000, 32.4064,  1.0000,  0.0000,  1.0000],\n",
            "        [50.0000,  1.0000, 27.6640,  0.0000,  0.0000,  3.0000],\n",
            "        [30.0000,  0.0000, 40.6120,  3.0000,  1.0000,  2.0000],\n",
            "        [19.0000,  0.0000, 34.4344,  0.0000,  1.0000,  2.0000],\n",
            "        [19.0000,  1.0000, 36.9512,  0.0000,  0.0000,  1.0000],\n",
            "        [24.0000,  1.0000, 24.6012,  0.0000,  0.0000,  1.0000],\n",
            "        [55.0000,  1.0000, 28.7508,  0.0000,  0.0000,  1.0000],\n",
            "        [46.0000,  1.0000, 45.6456,  3.0000,  0.0000,  2.0000],\n",
            "        [21.0000,  0.0000, 17.4876,  1.0000,  0.0000,  0.0000],\n",
            "        [52.0000,  0.0000, 38.8960,  0.0000,  0.0000,  3.0000],\n",
            "        [48.0000,  0.0000, 28.4544,  1.0000,  0.0000,  0.0000],\n",
            "        [45.0000,  1.0000, 35.0480,  1.0000,  0.0000,  3.0000],\n",
            "        [55.0000,  0.0000, 34.0860,  2.0000,  0.0000,  1.0000],\n",
            "        [46.0000,  1.0000, 34.6788,  1.0000,  0.0000,  0.0000],\n",
            "        [33.0000,  0.0000, 19.8588,  2.0000,  1.0000,  0.0000],\n",
            "        [20.0000,  1.0000, 31.3196,  5.0000,  0.0000,  0.0000],\n",
            "        [63.0000,  0.0000, 28.0592,  0.0000,  1.0000,  1.0000],\n",
            "        [36.0000,  1.0000, 35.8072,  2.0000,  0.0000,  2.0000],\n",
            "        [24.0000,  0.0000, 28.7040,  0.0000,  0.0000,  3.0000],\n",
            "        [35.0000,  1.0000, 35.6928,  3.0000,  0.0000,  2.0000],\n",
            "        [56.0000,  0.0000, 35.1728,  2.0000,  0.0000,  1.0000],\n",
            "        [32.0000,  1.0000, 34.9752,  1.0000,  1.0000,  0.0000],\n",
            "        [18.0000,  0.0000, 35.2352,  0.0000,  0.0000,  2.0000],\n",
            "        [45.0000,  0.0000, 26.7280,  3.0000,  0.0000,  3.0000],\n",
            "        [47.0000,  0.0000, 33.2800,  1.0000,  0.0000,  3.0000],\n",
            "        [40.0000,  0.0000, 37.6376,  0.0000,  0.0000,  2.0000],\n",
            "        [44.0000,  0.0000, 28.6000,  1.0000,  0.0000,  3.0000],\n",
            "        [51.0000,  0.0000, 35.5680,  1.0000,  0.0000,  3.0000]])\n",
            "targets: tensor([[ 5746.0713],\n",
            "        [ 1714.6967],\n",
            "        [ 7712.3384],\n",
            "        [11105.9414],\n",
            "        [22293.7910],\n",
            "        [41982.5977],\n",
            "        [46117.2422],\n",
            "        [ 3734.7683],\n",
            "        [16620.2637],\n",
            "        [17636.2324],\n",
            "        [ 8942.6709],\n",
            "        [10611.4414],\n",
            "        [ 1748.2496],\n",
            "        [31694.1836],\n",
            "        [12940.1328],\n",
            "        [ 2308.0994],\n",
            "        [ 7086.0210],\n",
            "        [15770.7480],\n",
            "        [12322.6729],\n",
            "        [ 5652.7129],\n",
            "        [13801.0576],\n",
            "        [16921.0703],\n",
            "        [17415.8223],\n",
            "        [18507.5508],\n",
            "        [26651.4121],\n",
            "        [ 2005.0038],\n",
            "        [26335.8555],\n",
            "        [ 7431.0488],\n",
            "        [ 6674.0845],\n",
            "        [18037.6172],\n",
            "        [49233.7227],\n",
            "        [22416.1406],\n",
            "        [ 4792.4009],\n",
            "        [47259.4023],\n",
            "        [10575.6582],\n",
            "        [ 2108.3423],\n",
            "        [10985.0781],\n",
            "        [ 8866.6973],\n",
            "        [42979.0508],\n",
            "        [36161.8477],\n",
            "        [ 1728.7512],\n",
            "        [ 2470.6169],\n",
            "        [11124.2266],\n",
            "        [ 9391.3213],\n",
            "        [ 3325.8286],\n",
            "        [10116.2646],\n",
            "        [ 9919.7520],\n",
            "        [ 7818.2139],\n",
            "        [12882.0635],\n",
            "        [ 8751.1807],\n",
            "        [17615.1191],\n",
            "        [ 5160.8130],\n",
            "        [30397.9922],\n",
            "        [ 5863.5210],\n",
            "        [19902.9805],\n",
            "        [ 6231.0986],\n",
            "        [13275.5469],\n",
            "        [39487.9023],\n",
            "        [12056.7666],\n",
            "        [ 9556.8877],\n",
            "        [ 8978.9141],\n",
            "        [ 6216.1094],\n",
            "        [ 8008.3428],\n",
            "        [10366.3359]])\n"
          ],
          "name": "stdout"
        }
      ]
    },
    {
      "cell_type": "markdown",
      "metadata": {
        "id": "iSM_yrFJjcaC",
        "colab_type": "text"
      },
      "source": [
        "Let's save our work by committing to Jovian."
      ]
    },
    {
      "cell_type": "code",
      "metadata": {
        "id": "2pXmE4MmjcaD",
        "colab_type": "code",
        "colab": {}
      },
      "source": [
        "jovian.commit(project=project_name, environment=None)"
      ],
      "execution_count": 0,
      "outputs": []
    },
    {
      "cell_type": "markdown",
      "metadata": {
        "id": "oORWrtoyjcaJ",
        "colab_type": "text"
      },
      "source": [
        "## Step 3: Create a Linear Regression Model\n",
        "\n",
        "Our model itself is a fairly straightforward linear regression (we'll build more complex models in the next assignment). \n"
      ]
    },
    {
      "cell_type": "code",
      "metadata": {
        "id": "iNzGaZhFjcaK",
        "colab_type": "code",
        "colab": {}
      },
      "source": [
        "input_size = len(input_cols)\n",
        "output_size = len(output_cols)"
      ],
      "execution_count": 0,
      "outputs": []
    },
    {
      "cell_type": "markdown",
      "metadata": {
        "id": "hpluVxS6jcaX",
        "colab_type": "text"
      },
      "source": [
        "**Q: Complete the class definition below by filling out the constructor (`__init__`), `forward`, `training_step` and `validation_step` methods.**\n",
        "\n",
        "Hint: Think carefully about picking a good loss fuction (it's not cross entropy). Maybe try 2-3 of them and see which one works best. See https://pytorch.org/docs/stable/nn.functional.html#loss-functions"
      ]
    },
    {
      "cell_type": "code",
      "metadata": {
        "id": "CS4ER9PWjcaZ",
        "colab_type": "code",
        "colab": {}
      },
      "source": [
        "class InsuranceModel(nn.Module):\n",
        "    def __init__(self):\n",
        "        super().__init__()\n",
        "        self.linear = nn.Linear(input_size,output_size)                  # fill this (hint: use input_size & output_size defined above)\n",
        "        \n",
        "    def forward(self, xb):\n",
        "        out = self.linear(xb)                         # fill this\n",
        "        return out\n",
        "    \n",
        "    def training_step(self, batch):\n",
        "        inputs, targets = batch \n",
        "        # Generate predictions\n",
        "        out = self(inputs)          \n",
        "        # Calcuate loss\n",
        "        loss = F.l1_loss(out, targets)                         # fill this\n",
        "        return loss\n",
        "    \n",
        "    def validation_step(self, batch):\n",
        "        inputs, targets = batch\n",
        "        # Generate predictions\n",
        "        out = self(inputs)\n",
        "        # Calculate loss\n",
        "        loss = F.l1_loss(out, targets)                           # fill this    \n",
        "        return {'val_loss': loss.detach()}\n",
        "        \n",
        "    def validation_epoch_end(self, outputs):\n",
        "        batch_losses = [x['val_loss'] for x in outputs]\n",
        "        epoch_loss = torch.stack(batch_losses).mean()   # Combine losses\n",
        "        return {'val_loss': epoch_loss.item()}\n",
        "    \n",
        "    def epoch_end(self, epoch, result, num_epochs):\n",
        "        # Print result every 20th epoch\n",
        "        if (epoch+1) % 20 == 0 or epoch == num_epochs-1:\n",
        "            print(\"Epoch [{}], val_loss: {:.4f}\".format(epoch+1, result['val_loss']))"
      ],
      "execution_count": 0,
      "outputs": []
    },
    {
      "cell_type": "markdown",
      "metadata": {
        "id": "vi65nnMTjcah",
        "colab_type": "text"
      },
      "source": [
        "Let us create a model using the `InsuranceModel` class. You may need to come back later and re-run the next cell to reinitialize the model, in case the loss becomes `nan` or `infinity`."
      ]
    },
    {
      "cell_type": "code",
      "metadata": {
        "id": "21CkMcwUjcai",
        "colab_type": "code",
        "colab": {}
      },
      "source": [
        "model = InsuranceModel()"
      ],
      "execution_count": 0,
      "outputs": []
    },
    {
      "cell_type": "markdown",
      "metadata": {
        "id": "_BhqALr2jcas",
        "colab_type": "text"
      },
      "source": [
        "Let's check out the weights and biases of the model using `model.parameters`."
      ]
    },
    {
      "cell_type": "code",
      "metadata": {
        "id": "wNo3oS23jcat",
        "colab_type": "code",
        "colab": {
          "base_uri": "https://localhost:8080/",
          "height": 90
        },
        "outputId": "f84ba070-6a17-49a7-ec53-f6942ba817f8"
      },
      "source": [
        "list(model.parameters())"
      ],
      "execution_count": 108,
      "outputs": [
        {
          "output_type": "execute_result",
          "data": {
            "text/plain": [
              "[Parameter containing:\n",
              " tensor([[ 0.3491, -0.0598, -0.1900, -0.1705,  0.0172,  0.2953]],\n",
              "        requires_grad=True), Parameter containing:\n",
              " tensor([0.1338], requires_grad=True)]"
            ]
          },
          "metadata": {
            "tags": []
          },
          "execution_count": 108
        }
      ]
    },
    {
      "cell_type": "markdown",
      "metadata": {
        "id": "5cUwZmsqjcaz",
        "colab_type": "text"
      },
      "source": [
        "One final commit before we train the model."
      ]
    },
    {
      "cell_type": "code",
      "metadata": {
        "id": "4Xev1LcKjca0",
        "colab_type": "code",
        "colab": {
          "base_uri": "https://localhost:8080/",
          "height": 35
        },
        "outputId": "3ec2a961-a928-4202-daf1-9225bf6ec60a"
      },
      "source": [
        "jovian.commit(project=project_name, environment=None)"
      ],
      "execution_count": 109,
      "outputs": [
        {
          "output_type": "stream",
          "text": [
            "\u001b[31m[jovian] Error: Failed to detect Jupyter notebook or Python script. Skipping..\u001b[0m\n"
          ],
          "name": "stderr"
        }
      ]
    },
    {
      "cell_type": "markdown",
      "metadata": {
        "id": "epATdSonjca4",
        "colab_type": "text"
      },
      "source": [
        "## Step 4: Train the model to fit the data\n",
        "\n",
        "To train our model, we'll use the same `fit` function explained in the lecture. That's the benefit of defining a generic training loop - you can use it for any problem."
      ]
    },
    {
      "cell_type": "code",
      "metadata": {
        "id": "INMc-Sh2jca6",
        "colab_type": "code",
        "colab": {}
      },
      "source": [
        "def evaluate(model, val_loader):\n",
        "    outputs = [model.validation_step(batch) for batch in val_loader]\n",
        "    return model.validation_epoch_end(outputs)\n",
        "\n",
        "def fit(epochs, lr, model, train_loader, val_loader, opt_func=torch.optim.SGD):\n",
        "    history = []\n",
        "    optimizer = opt_func(model.parameters(), lr)\n",
        "    for epoch in range(epochs):\n",
        "        # Training Phase \n",
        "        for batch in train_loader:\n",
        "            loss = model.training_step(batch)\n",
        "            loss.backward()\n",
        "            optimizer.step()\n",
        "            optimizer.zero_grad()\n",
        "        # Validation phase\n",
        "        result = evaluate(model, val_loader)\n",
        "        model.epoch_end(epoch, result, epochs)\n",
        "        history.append(result)\n",
        "    return history"
      ],
      "execution_count": 0,
      "outputs": []
    },
    {
      "cell_type": "markdown",
      "metadata": {
        "id": "-RtQl0wZjcbD",
        "colab_type": "text"
      },
      "source": [
        "**Q: Use the `evaluate` function to calculate the loss on the validation set before training.**"
      ]
    },
    {
      "cell_type": "code",
      "metadata": {
        "id": "KllTE0iEjcbE",
        "colab_type": "code",
        "colab": {
          "base_uri": "https://localhost:8080/",
          "height": 35
        },
        "outputId": "33aa7d24-4813-4434-e46f-20f94cfc85ac"
      },
      "source": [
        "result = evaluate(model,val_loader)\n",
        "print(result)"
      ],
      "execution_count": 159,
      "outputs": [
        {
          "output_type": "stream",
          "text": [
            "{'val_loss': 13731.7822265625}\n"
          ],
          "name": "stdout"
        }
      ]
    },
    {
      "cell_type": "markdown",
      "metadata": {
        "id": "QYxid9IvjcbO",
        "colab_type": "text"
      },
      "source": [
        "\n",
        "We are now ready to train the model. You may need to run the training loop many times, for different number of epochs and with different learning rates, to get a good result. Also, if your loss becomes too large (or `nan`), you may have to re-initialize the model by running the cell `model = InsuranceModel()`. Experiment with this for a while, and try to get to as low a loss as possible."
      ]
    },
    {
      "cell_type": "markdown",
      "metadata": {
        "id": "QAmXJW7zjcbQ",
        "colab_type": "text"
      },
      "source": [
        "**Q: Train the model 4-5 times with different learning rates & for different number of epochs.**\n",
        "\n",
        "Hint: Vary learning rates by orders of 10 (e.g. `1e-2`, `1e-3`, `1e-4`, `1e-5`, `1e-6`) to figure out what works."
      ]
    },
    {
      "cell_type": "code",
      "metadata": {
        "id": "mG-6jIAejcbR",
        "colab_type": "code",
        "colab": {
          "base_uri": "https://localhost:8080/",
          "height": 199
        },
        "outputId": "5b844ba6-1095-4331-e328-27446ca1296f"
      },
      "source": [
        "epochs = 200\n",
        "lr = 1e-2\n",
        "history1 = fit(epochs, lr, model, train_loader, val_loader)"
      ],
      "execution_count": 160,
      "outputs": [
        {
          "output_type": "stream",
          "text": [
            "Epoch [20], val_loss: 7863.7485\n",
            "Epoch [40], val_loss: 8791.5625\n",
            "Epoch [60], val_loss: 7786.3638\n",
            "Epoch [80], val_loss: 7874.1660\n",
            "Epoch [100], val_loss: 7233.7949\n",
            "Epoch [120], val_loss: 7042.3555\n",
            "Epoch [140], val_loss: 7096.3037\n",
            "Epoch [160], val_loss: 6597.0044\n",
            "Epoch [180], val_loss: 7318.9395\n",
            "Epoch [200], val_loss: 6648.0986\n"
          ],
          "name": "stdout"
        }
      ]
    },
    {
      "cell_type": "code",
      "metadata": {
        "id": "h1QrihEDjcbZ",
        "colab_type": "code",
        "colab": {
          "base_uri": "https://localhost:8080/",
          "height": 1000
        },
        "outputId": "88634e90-13fc-4edf-dc20-254b0695ffdb"
      },
      "source": [
        "epochs = 10000\n",
        "lr = 1e-2\n",
        "history2 = fit(epochs, lr, model, train_loader, val_loader)"
      ],
      "execution_count": 161,
      "outputs": [
        {
          "output_type": "stream",
          "text": [
            "Epoch [20], val_loss: 6085.2778\n",
            "Epoch [40], val_loss: 7110.5752\n",
            "Epoch [60], val_loss: 8165.6602\n",
            "Epoch [80], val_loss: 6186.2461\n",
            "Epoch [100], val_loss: 8708.2764\n",
            "Epoch [120], val_loss: 8405.2314\n",
            "Epoch [140], val_loss: 7624.2085\n",
            "Epoch [160], val_loss: 9315.3682\n",
            "Epoch [180], val_loss: 8317.5596\n",
            "Epoch [200], val_loss: 7616.9058\n",
            "Epoch [220], val_loss: 5906.6040\n",
            "Epoch [240], val_loss: 5764.6841\n",
            "Epoch [260], val_loss: 5677.6455\n",
            "Epoch [280], val_loss: 8206.3555\n",
            "Epoch [300], val_loss: 5694.6040\n",
            "Epoch [320], val_loss: 7406.4639\n",
            "Epoch [340], val_loss: 7054.6670\n",
            "Epoch [360], val_loss: 5488.0493\n",
            "Epoch [380], val_loss: 8373.7344\n",
            "Epoch [400], val_loss: 5526.0811\n",
            "Epoch [420], val_loss: 8652.9482\n",
            "Epoch [440], val_loss: 6988.8872\n",
            "Epoch [460], val_loss: 5887.0078\n",
            "Epoch [480], val_loss: 6450.8569\n",
            "Epoch [500], val_loss: 6648.9697\n",
            "Epoch [520], val_loss: 7412.9692\n",
            "Epoch [540], val_loss: 5200.8442\n",
            "Epoch [560], val_loss: 8629.8398\n",
            "Epoch [580], val_loss: 5742.8892\n",
            "Epoch [600], val_loss: 8489.0869\n",
            "Epoch [620], val_loss: 7448.2124\n",
            "Epoch [640], val_loss: 8833.0137\n",
            "Epoch [660], val_loss: 6384.0747\n",
            "Epoch [680], val_loss: 5057.7568\n",
            "Epoch [700], val_loss: 4982.5522\n",
            "Epoch [720], val_loss: 7668.3423\n",
            "Epoch [740], val_loss: 6017.6250\n",
            "Epoch [760], val_loss: 8986.2852\n",
            "Epoch [780], val_loss: 6350.2544\n",
            "Epoch [800], val_loss: 7748.8701\n",
            "Epoch [820], val_loss: 4888.3296\n",
            "Epoch [840], val_loss: 6182.5093\n",
            "Epoch [860], val_loss: 5275.8164\n",
            "Epoch [880], val_loss: 8497.7480\n",
            "Epoch [900], val_loss: 7166.7769\n",
            "Epoch [920], val_loss: 4802.7031\n",
            "Epoch [940], val_loss: 4489.2085\n",
            "Epoch [960], val_loss: 7883.7676\n",
            "Epoch [980], val_loss: 9036.0693\n",
            "Epoch [1000], val_loss: 4513.3403\n",
            "Epoch [1020], val_loss: 7523.9082\n",
            "Epoch [1040], val_loss: 8008.0537\n",
            "Epoch [1060], val_loss: 10006.0586\n",
            "Epoch [1080], val_loss: 5511.5757\n",
            "Epoch [1100], val_loss: 9107.7969\n",
            "Epoch [1120], val_loss: 6443.8569\n",
            "Epoch [1140], val_loss: 7997.0000\n",
            "Epoch [1160], val_loss: 4961.6523\n",
            "Epoch [1180], val_loss: 4511.0479\n",
            "Epoch [1200], val_loss: 4901.7026\n",
            "Epoch [1220], val_loss: 4679.5249\n",
            "Epoch [1240], val_loss: 4790.1108\n",
            "Epoch [1260], val_loss: 5105.5195\n",
            "Epoch [1280], val_loss: 8948.8828\n",
            "Epoch [1300], val_loss: 7954.4004\n",
            "Epoch [1320], val_loss: 5245.1592\n",
            "Epoch [1340], val_loss: 8253.0908\n",
            "Epoch [1360], val_loss: 9339.3691\n",
            "Epoch [1380], val_loss: 7386.8062\n",
            "Epoch [1400], val_loss: 7752.4443\n",
            "Epoch [1420], val_loss: 6661.5083\n",
            "Epoch [1440], val_loss: 6966.0615\n",
            "Epoch [1460], val_loss: 6028.6133\n",
            "Epoch [1480], val_loss: 7022.1333\n",
            "Epoch [1500], val_loss: 5903.6860\n",
            "Epoch [1520], val_loss: 4927.4946\n",
            "Epoch [1540], val_loss: 3703.1511\n",
            "Epoch [1560], val_loss: 8151.1436\n",
            "Epoch [1580], val_loss: 4431.5303\n",
            "Epoch [1600], val_loss: 3915.9827\n",
            "Epoch [1620], val_loss: 8011.9800\n",
            "Epoch [1640], val_loss: 7966.9458\n",
            "Epoch [1660], val_loss: 7993.8525\n",
            "Epoch [1680], val_loss: 8036.2900\n",
            "Epoch [1700], val_loss: 7398.5322\n",
            "Epoch [1720], val_loss: 4587.3735\n",
            "Epoch [1740], val_loss: 4993.6953\n",
            "Epoch [1760], val_loss: 6810.2637\n",
            "Epoch [1780], val_loss: 5156.5757\n",
            "Epoch [1800], val_loss: 9431.8838\n",
            "Epoch [1820], val_loss: 6259.7490\n",
            "Epoch [1840], val_loss: 3746.8708\n",
            "Epoch [1860], val_loss: 8266.1523\n",
            "Epoch [1880], val_loss: 7829.9106\n",
            "Epoch [1900], val_loss: 7822.4756\n",
            "Epoch [1920], val_loss: 7547.5400\n",
            "Epoch [1940], val_loss: 4249.2700\n",
            "Epoch [1960], val_loss: 8953.6602\n",
            "Epoch [1980], val_loss: 6797.1001\n",
            "Epoch [2000], val_loss: 8369.4893\n",
            "Epoch [2020], val_loss: 7732.8657\n",
            "Epoch [2040], val_loss: 8218.8604\n",
            "Epoch [2060], val_loss: 4072.8167\n",
            "Epoch [2080], val_loss: 4165.3926\n",
            "Epoch [2100], val_loss: 5809.5942\n",
            "Epoch [2120], val_loss: 9271.5430\n",
            "Epoch [2140], val_loss: 4005.9128\n",
            "Epoch [2160], val_loss: 4914.2974\n",
            "Epoch [2180], val_loss: 6249.6211\n",
            "Epoch [2200], val_loss: 7229.0962\n",
            "Epoch [2220], val_loss: 4780.2588\n",
            "Epoch [2240], val_loss: 6755.7349\n",
            "Epoch [2260], val_loss: 5154.9229\n",
            "Epoch [2280], val_loss: 6630.4531\n",
            "Epoch [2300], val_loss: 4573.1094\n",
            "Epoch [2320], val_loss: 5852.4131\n",
            "Epoch [2340], val_loss: 5928.4380\n",
            "Epoch [2360], val_loss: 3715.6545\n",
            "Epoch [2380], val_loss: 10643.7998\n",
            "Epoch [2400], val_loss: 5954.3740\n",
            "Epoch [2420], val_loss: 6693.0581\n",
            "Epoch [2440], val_loss: 6778.9336\n",
            "Epoch [2460], val_loss: 6766.6172\n",
            "Epoch [2480], val_loss: 5039.7622\n",
            "Epoch [2500], val_loss: 7942.1650\n",
            "Epoch [2520], val_loss: 6076.7925\n",
            "Epoch [2540], val_loss: 4435.3828\n",
            "Epoch [2560], val_loss: 7081.9531\n",
            "Epoch [2580], val_loss: 8247.1055\n",
            "Epoch [2600], val_loss: 3835.6697\n",
            "Epoch [2620], val_loss: 4061.1118\n",
            "Epoch [2640], val_loss: 6018.9941\n",
            "Epoch [2660], val_loss: 6807.1748\n",
            "Epoch [2680], val_loss: 3692.3792\n",
            "Epoch [2700], val_loss: 3630.5530\n",
            "Epoch [2720], val_loss: 4221.4692\n",
            "Epoch [2740], val_loss: 6247.7744\n",
            "Epoch [2760], val_loss: 7559.3730\n",
            "Epoch [2780], val_loss: 5243.6875\n",
            "Epoch [2800], val_loss: 5154.8149\n",
            "Epoch [2820], val_loss: 4528.4448\n",
            "Epoch [2840], val_loss: 5986.8672\n",
            "Epoch [2860], val_loss: 4953.0986\n",
            "Epoch [2880], val_loss: 5055.4702\n",
            "Epoch [2900], val_loss: 7907.4053\n",
            "Epoch [2920], val_loss: 7915.2769\n",
            "Epoch [2940], val_loss: 4579.1196\n",
            "Epoch [2960], val_loss: 4746.0488\n",
            "Epoch [2980], val_loss: 4860.7344\n",
            "Epoch [3000], val_loss: 6998.2153\n",
            "Epoch [3020], val_loss: 5566.9023\n",
            "Epoch [3040], val_loss: 8183.4355\n",
            "Epoch [3060], val_loss: 3612.3923\n",
            "Epoch [3080], val_loss: 7024.7422\n",
            "Epoch [3100], val_loss: 5874.2031\n",
            "Epoch [3120], val_loss: 4080.8323\n",
            "Epoch [3140], val_loss: 4751.1045\n",
            "Epoch [3160], val_loss: 7387.9058\n",
            "Epoch [3180], val_loss: 6356.7241\n",
            "Epoch [3200], val_loss: 3588.7202\n",
            "Epoch [3220], val_loss: 3463.6479\n",
            "Epoch [3240], val_loss: 6795.0244\n",
            "Epoch [3260], val_loss: 7030.8989\n",
            "Epoch [3280], val_loss: 9051.8799\n",
            "Epoch [3300], val_loss: 6924.9810\n",
            "Epoch [3320], val_loss: 4632.4233\n",
            "Epoch [3340], val_loss: 6879.7065\n",
            "Epoch [3360], val_loss: 6415.7720\n",
            "Epoch [3380], val_loss: 4805.8799\n",
            "Epoch [3400], val_loss: 5270.6167\n",
            "Epoch [3420], val_loss: 6293.2153\n",
            "Epoch [3440], val_loss: 6571.5957\n",
            "Epoch [3460], val_loss: 5616.4014\n",
            "Epoch [3480], val_loss: 7677.7002\n",
            "Epoch [3500], val_loss: 5697.9800\n",
            "Epoch [3520], val_loss: 3575.1582\n"
          ],
          "name": "stdout"
        },
        {
          "output_type": "error",
          "ename": "KeyboardInterrupt",
          "evalue": "ignored",
          "traceback": [
            "\u001b[0;31m---------------------------------------------------------------------------\u001b[0m",
            "\u001b[0;31mKeyboardInterrupt\u001b[0m                         Traceback (most recent call last)",
            "\u001b[0;32m<ipython-input-161-e9dc58c4c26b>\u001b[0m in \u001b[0;36m<module>\u001b[0;34m()\u001b[0m\n\u001b[1;32m      1\u001b[0m \u001b[0mepochs\u001b[0m \u001b[0;34m=\u001b[0m \u001b[0;36m10000\u001b[0m\u001b[0;34m\u001b[0m\u001b[0;34m\u001b[0m\u001b[0m\n\u001b[1;32m      2\u001b[0m \u001b[0mlr\u001b[0m \u001b[0;34m=\u001b[0m \u001b[0;36m1e-2\u001b[0m\u001b[0;34m\u001b[0m\u001b[0;34m\u001b[0m\u001b[0m\n\u001b[0;32m----> 3\u001b[0;31m \u001b[0mhistory2\u001b[0m \u001b[0;34m=\u001b[0m \u001b[0mfit\u001b[0m\u001b[0;34m(\u001b[0m\u001b[0mepochs\u001b[0m\u001b[0;34m,\u001b[0m \u001b[0mlr\u001b[0m\u001b[0;34m,\u001b[0m \u001b[0mmodel\u001b[0m\u001b[0;34m,\u001b[0m \u001b[0mtrain_loader\u001b[0m\u001b[0;34m,\u001b[0m \u001b[0mval_loader\u001b[0m\u001b[0;34m)\u001b[0m\u001b[0;34m\u001b[0m\u001b[0;34m\u001b[0m\u001b[0m\n\u001b[0m",
            "\u001b[0;32m<ipython-input-158-4884b27a1db2>\u001b[0m in \u001b[0;36mfit\u001b[0;34m(epochs, lr, model, train_loader, val_loader, opt_func)\u001b[0m\n\u001b[1;32m      9\u001b[0m         \u001b[0;31m# Training Phase\u001b[0m\u001b[0;34m\u001b[0m\u001b[0;34m\u001b[0m\u001b[0;34m\u001b[0m\u001b[0m\n\u001b[1;32m     10\u001b[0m         \u001b[0;32mfor\u001b[0m \u001b[0mbatch\u001b[0m \u001b[0;32min\u001b[0m \u001b[0mtrain_loader\u001b[0m\u001b[0;34m:\u001b[0m\u001b[0;34m\u001b[0m\u001b[0;34m\u001b[0m\u001b[0m\n\u001b[0;32m---> 11\u001b[0;31m             \u001b[0mloss\u001b[0m \u001b[0;34m=\u001b[0m \u001b[0mmodel\u001b[0m\u001b[0;34m.\u001b[0m\u001b[0mtraining_step\u001b[0m\u001b[0;34m(\u001b[0m\u001b[0mbatch\u001b[0m\u001b[0;34m)\u001b[0m\u001b[0;34m\u001b[0m\u001b[0;34m\u001b[0m\u001b[0m\n\u001b[0m\u001b[1;32m     12\u001b[0m             \u001b[0mloss\u001b[0m\u001b[0;34m.\u001b[0m\u001b[0mbackward\u001b[0m\u001b[0;34m(\u001b[0m\u001b[0;34m)\u001b[0m\u001b[0;34m\u001b[0m\u001b[0;34m\u001b[0m\u001b[0m\n\u001b[1;32m     13\u001b[0m             \u001b[0moptimizer\u001b[0m\u001b[0;34m.\u001b[0m\u001b[0mstep\u001b[0m\u001b[0;34m(\u001b[0m\u001b[0;34m)\u001b[0m\u001b[0;34m\u001b[0m\u001b[0;34m\u001b[0m\u001b[0m\n",
            "\u001b[0;32m<ipython-input-156-f1ddaaac591b>\u001b[0m in \u001b[0;36mtraining_step\u001b[0;34m(self, batch)\u001b[0m\n\u001b[1;32m     13\u001b[0m         \u001b[0minputs\u001b[0m\u001b[0;34m,\u001b[0m \u001b[0mtargets\u001b[0m \u001b[0;34m=\u001b[0m \u001b[0mbatch\u001b[0m\u001b[0;34m\u001b[0m\u001b[0;34m\u001b[0m\u001b[0m\n\u001b[1;32m     14\u001b[0m         \u001b[0;31m# Generate predictions\u001b[0m\u001b[0;34m\u001b[0m\u001b[0;34m\u001b[0m\u001b[0;34m\u001b[0m\u001b[0m\n\u001b[0;32m---> 15\u001b[0;31m         \u001b[0mout\u001b[0m \u001b[0;34m=\u001b[0m \u001b[0mself\u001b[0m\u001b[0;34m(\u001b[0m\u001b[0minputs\u001b[0m\u001b[0;34m)\u001b[0m\u001b[0;34m\u001b[0m\u001b[0;34m\u001b[0m\u001b[0m\n\u001b[0m\u001b[1;32m     16\u001b[0m         \u001b[0;31m# Calcuate loss\u001b[0m\u001b[0;34m\u001b[0m\u001b[0;34m\u001b[0m\u001b[0;34m\u001b[0m\u001b[0m\n\u001b[1;32m     17\u001b[0m         \u001b[0mloss\u001b[0m \u001b[0;34m=\u001b[0m \u001b[0mF\u001b[0m\u001b[0;34m.\u001b[0m\u001b[0ml1_loss\u001b[0m\u001b[0;34m(\u001b[0m\u001b[0mout\u001b[0m\u001b[0;34m,\u001b[0m \u001b[0mtargets\u001b[0m\u001b[0;34m)\u001b[0m                         \u001b[0;31m# fill this\u001b[0m\u001b[0;34m\u001b[0m\u001b[0;34m\u001b[0m\u001b[0m\n",
            "\u001b[0;32m/usr/local/lib/python3.6/dist-packages/torch/nn/modules/module.py\u001b[0m in \u001b[0;36m__call__\u001b[0;34m(self, *input, **kwargs)\u001b[0m\n\u001b[1;32m    548\u001b[0m             \u001b[0mresult\u001b[0m \u001b[0;34m=\u001b[0m \u001b[0mself\u001b[0m\u001b[0;34m.\u001b[0m\u001b[0m_slow_forward\u001b[0m\u001b[0;34m(\u001b[0m\u001b[0;34m*\u001b[0m\u001b[0minput\u001b[0m\u001b[0;34m,\u001b[0m \u001b[0;34m**\u001b[0m\u001b[0mkwargs\u001b[0m\u001b[0;34m)\u001b[0m\u001b[0;34m\u001b[0m\u001b[0;34m\u001b[0m\u001b[0m\n\u001b[1;32m    549\u001b[0m         \u001b[0;32melse\u001b[0m\u001b[0;34m:\u001b[0m\u001b[0;34m\u001b[0m\u001b[0;34m\u001b[0m\u001b[0m\n\u001b[0;32m--> 550\u001b[0;31m             \u001b[0mresult\u001b[0m \u001b[0;34m=\u001b[0m \u001b[0mself\u001b[0m\u001b[0;34m.\u001b[0m\u001b[0mforward\u001b[0m\u001b[0;34m(\u001b[0m\u001b[0;34m*\u001b[0m\u001b[0minput\u001b[0m\u001b[0;34m,\u001b[0m \u001b[0;34m**\u001b[0m\u001b[0mkwargs\u001b[0m\u001b[0;34m)\u001b[0m\u001b[0;34m\u001b[0m\u001b[0;34m\u001b[0m\u001b[0m\n\u001b[0m\u001b[1;32m    551\u001b[0m         \u001b[0;32mfor\u001b[0m \u001b[0mhook\u001b[0m \u001b[0;32min\u001b[0m \u001b[0mself\u001b[0m\u001b[0;34m.\u001b[0m\u001b[0m_forward_hooks\u001b[0m\u001b[0;34m.\u001b[0m\u001b[0mvalues\u001b[0m\u001b[0;34m(\u001b[0m\u001b[0;34m)\u001b[0m\u001b[0;34m:\u001b[0m\u001b[0;34m\u001b[0m\u001b[0;34m\u001b[0m\u001b[0m\n\u001b[1;32m    552\u001b[0m             \u001b[0mhook_result\u001b[0m \u001b[0;34m=\u001b[0m \u001b[0mhook\u001b[0m\u001b[0;34m(\u001b[0m\u001b[0mself\u001b[0m\u001b[0;34m,\u001b[0m \u001b[0minput\u001b[0m\u001b[0;34m,\u001b[0m \u001b[0mresult\u001b[0m\u001b[0;34m)\u001b[0m\u001b[0;34m\u001b[0m\u001b[0;34m\u001b[0m\u001b[0m\n",
            "\u001b[0;32m<ipython-input-156-f1ddaaac591b>\u001b[0m in \u001b[0;36mforward\u001b[0;34m(self, xb)\u001b[0m\n\u001b[1;32m      7\u001b[0m     \u001b[0;32mdef\u001b[0m \u001b[0mforward\u001b[0m\u001b[0;34m(\u001b[0m\u001b[0mself\u001b[0m\u001b[0;34m,\u001b[0m \u001b[0mxb\u001b[0m\u001b[0;34m)\u001b[0m\u001b[0;34m:\u001b[0m\u001b[0;34m\u001b[0m\u001b[0;34m\u001b[0m\u001b[0m\n\u001b[1;32m      8\u001b[0m         \u001b[0mout\u001b[0m \u001b[0;34m=\u001b[0m \u001b[0mself\u001b[0m\u001b[0;34m.\u001b[0m\u001b[0mlinear1\u001b[0m\u001b[0;34m(\u001b[0m\u001b[0mxb\u001b[0m\u001b[0;34m)\u001b[0m\u001b[0;34m\u001b[0m\u001b[0;34m\u001b[0m\u001b[0m\n\u001b[0;32m----> 9\u001b[0;31m         \u001b[0mout\u001b[0m \u001b[0;34m=\u001b[0m \u001b[0mself\u001b[0m\u001b[0;34m.\u001b[0m\u001b[0mlinear2\u001b[0m\u001b[0;34m(\u001b[0m\u001b[0mout\u001b[0m\u001b[0;34m)\u001b[0m                         \u001b[0;31m# fill this\u001b[0m\u001b[0;34m\u001b[0m\u001b[0;34m\u001b[0m\u001b[0m\n\u001b[0m\u001b[1;32m     10\u001b[0m         \u001b[0;32mreturn\u001b[0m \u001b[0mout\u001b[0m\u001b[0;34m\u001b[0m\u001b[0;34m\u001b[0m\u001b[0m\n\u001b[1;32m     11\u001b[0m \u001b[0;34m\u001b[0m\u001b[0m\n",
            "\u001b[0;32m/usr/local/lib/python3.6/dist-packages/torch/nn/modules/module.py\u001b[0m in \u001b[0;36m__call__\u001b[0;34m(self, *input, **kwargs)\u001b[0m\n\u001b[1;32m    548\u001b[0m             \u001b[0mresult\u001b[0m \u001b[0;34m=\u001b[0m \u001b[0mself\u001b[0m\u001b[0;34m.\u001b[0m\u001b[0m_slow_forward\u001b[0m\u001b[0;34m(\u001b[0m\u001b[0;34m*\u001b[0m\u001b[0minput\u001b[0m\u001b[0;34m,\u001b[0m \u001b[0;34m**\u001b[0m\u001b[0mkwargs\u001b[0m\u001b[0;34m)\u001b[0m\u001b[0;34m\u001b[0m\u001b[0;34m\u001b[0m\u001b[0m\n\u001b[1;32m    549\u001b[0m         \u001b[0;32melse\u001b[0m\u001b[0;34m:\u001b[0m\u001b[0;34m\u001b[0m\u001b[0;34m\u001b[0m\u001b[0m\n\u001b[0;32m--> 550\u001b[0;31m             \u001b[0mresult\u001b[0m \u001b[0;34m=\u001b[0m \u001b[0mself\u001b[0m\u001b[0;34m.\u001b[0m\u001b[0mforward\u001b[0m\u001b[0;34m(\u001b[0m\u001b[0;34m*\u001b[0m\u001b[0minput\u001b[0m\u001b[0;34m,\u001b[0m \u001b[0;34m**\u001b[0m\u001b[0mkwargs\u001b[0m\u001b[0;34m)\u001b[0m\u001b[0;34m\u001b[0m\u001b[0;34m\u001b[0m\u001b[0m\n\u001b[0m\u001b[1;32m    551\u001b[0m         \u001b[0;32mfor\u001b[0m \u001b[0mhook\u001b[0m \u001b[0;32min\u001b[0m \u001b[0mself\u001b[0m\u001b[0;34m.\u001b[0m\u001b[0m_forward_hooks\u001b[0m\u001b[0;34m.\u001b[0m\u001b[0mvalues\u001b[0m\u001b[0;34m(\u001b[0m\u001b[0;34m)\u001b[0m\u001b[0;34m:\u001b[0m\u001b[0;34m\u001b[0m\u001b[0;34m\u001b[0m\u001b[0m\n\u001b[1;32m    552\u001b[0m             \u001b[0mhook_result\u001b[0m \u001b[0;34m=\u001b[0m \u001b[0mhook\u001b[0m\u001b[0;34m(\u001b[0m\u001b[0mself\u001b[0m\u001b[0;34m,\u001b[0m \u001b[0minput\u001b[0m\u001b[0;34m,\u001b[0m \u001b[0mresult\u001b[0m\u001b[0;34m)\u001b[0m\u001b[0;34m\u001b[0m\u001b[0;34m\u001b[0m\u001b[0m\n",
            "\u001b[0;32m/usr/local/lib/python3.6/dist-packages/torch/nn/modules/linear.py\u001b[0m in \u001b[0;36mforward\u001b[0;34m(self, input)\u001b[0m\n\u001b[1;32m     85\u001b[0m \u001b[0;34m\u001b[0m\u001b[0m\n\u001b[1;32m     86\u001b[0m     \u001b[0;32mdef\u001b[0m \u001b[0mforward\u001b[0m\u001b[0;34m(\u001b[0m\u001b[0mself\u001b[0m\u001b[0;34m,\u001b[0m \u001b[0minput\u001b[0m\u001b[0;34m)\u001b[0m\u001b[0;34m:\u001b[0m\u001b[0;34m\u001b[0m\u001b[0;34m\u001b[0m\u001b[0m\n\u001b[0;32m---> 87\u001b[0;31m         \u001b[0;32mreturn\u001b[0m \u001b[0mF\u001b[0m\u001b[0;34m.\u001b[0m\u001b[0mlinear\u001b[0m\u001b[0;34m(\u001b[0m\u001b[0minput\u001b[0m\u001b[0;34m,\u001b[0m \u001b[0mself\u001b[0m\u001b[0;34m.\u001b[0m\u001b[0mweight\u001b[0m\u001b[0;34m,\u001b[0m \u001b[0mself\u001b[0m\u001b[0;34m.\u001b[0m\u001b[0mbias\u001b[0m\u001b[0;34m)\u001b[0m\u001b[0;34m\u001b[0m\u001b[0;34m\u001b[0m\u001b[0m\n\u001b[0m\u001b[1;32m     88\u001b[0m \u001b[0;34m\u001b[0m\u001b[0m\n\u001b[1;32m     89\u001b[0m     \u001b[0;32mdef\u001b[0m \u001b[0mextra_repr\u001b[0m\u001b[0;34m(\u001b[0m\u001b[0mself\u001b[0m\u001b[0;34m)\u001b[0m\u001b[0;34m:\u001b[0m\u001b[0;34m\u001b[0m\u001b[0;34m\u001b[0m\u001b[0m\n",
            "\u001b[0;32m/usr/local/lib/python3.6/dist-packages/torch/nn/functional.py\u001b[0m in \u001b[0;36mlinear\u001b[0;34m(input, weight, bias)\u001b[0m\n\u001b[1;32m   1608\u001b[0m     \u001b[0;32mif\u001b[0m \u001b[0minput\u001b[0m\u001b[0;34m.\u001b[0m\u001b[0mdim\u001b[0m\u001b[0;34m(\u001b[0m\u001b[0;34m)\u001b[0m \u001b[0;34m==\u001b[0m \u001b[0;36m2\u001b[0m \u001b[0;32mand\u001b[0m \u001b[0mbias\u001b[0m \u001b[0;32mis\u001b[0m \u001b[0;32mnot\u001b[0m \u001b[0;32mNone\u001b[0m\u001b[0;34m:\u001b[0m\u001b[0;34m\u001b[0m\u001b[0;34m\u001b[0m\u001b[0m\n\u001b[1;32m   1609\u001b[0m         \u001b[0;31m# fused op is marginally faster\u001b[0m\u001b[0;34m\u001b[0m\u001b[0;34m\u001b[0m\u001b[0;34m\u001b[0m\u001b[0m\n\u001b[0;32m-> 1610\u001b[0;31m         \u001b[0mret\u001b[0m \u001b[0;34m=\u001b[0m \u001b[0mtorch\u001b[0m\u001b[0;34m.\u001b[0m\u001b[0maddmm\u001b[0m\u001b[0;34m(\u001b[0m\u001b[0mbias\u001b[0m\u001b[0;34m,\u001b[0m \u001b[0minput\u001b[0m\u001b[0;34m,\u001b[0m \u001b[0mweight\u001b[0m\u001b[0;34m.\u001b[0m\u001b[0mt\u001b[0m\u001b[0;34m(\u001b[0m\u001b[0;34m)\u001b[0m\u001b[0;34m)\u001b[0m\u001b[0;34m\u001b[0m\u001b[0;34m\u001b[0m\u001b[0m\n\u001b[0m\u001b[1;32m   1611\u001b[0m     \u001b[0;32melse\u001b[0m\u001b[0;34m:\u001b[0m\u001b[0;34m\u001b[0m\u001b[0;34m\u001b[0m\u001b[0m\n\u001b[1;32m   1612\u001b[0m         \u001b[0moutput\u001b[0m \u001b[0;34m=\u001b[0m \u001b[0minput\u001b[0m\u001b[0;34m.\u001b[0m\u001b[0mmatmul\u001b[0m\u001b[0;34m(\u001b[0m\u001b[0mweight\u001b[0m\u001b[0;34m.\u001b[0m\u001b[0mt\u001b[0m\u001b[0;34m(\u001b[0m\u001b[0;34m)\u001b[0m\u001b[0;34m)\u001b[0m\u001b[0;34m\u001b[0m\u001b[0;34m\u001b[0m\u001b[0m\n",
            "\u001b[0;31mKeyboardInterrupt\u001b[0m: "
          ]
        }
      ]
    },
    {
      "cell_type": "code",
      "metadata": {
        "id": "jWQlIkHUjcbe",
        "colab_type": "code",
        "colab": {
          "base_uri": "https://localhost:8080/",
          "height": 90
        },
        "outputId": "fb7a3b10-5e3d-44c7-f262-64c1e1c93045"
      },
      "source": [
        "epochs = 70\n",
        "lr = 1e-3\n",
        "history3 = fit(epochs, lr, model, train_loader, val_loader)"
      ],
      "execution_count": 142,
      "outputs": [
        {
          "output_type": "stream",
          "text": [
            "Epoch [20], val_loss: 6768.6743\n",
            "Epoch [40], val_loss: 6764.9082\n",
            "Epoch [60], val_loss: 6761.1919\n",
            "Epoch [70], val_loss: 6759.3608\n"
          ],
          "name": "stdout"
        }
      ]
    },
    {
      "cell_type": "code",
      "metadata": {
        "id": "fHkn_euBjcbk",
        "colab_type": "code",
        "colab": {
          "base_uri": "https://localhost:8080/",
          "height": 163
        },
        "outputId": "d883ffb0-2c9d-4ee8-a569-aa587ee81574"
      },
      "source": [
        "epochs = 150\n",
        "lr = 1e-4\n",
        "history4 = fit(epochs, lr, model, train_loader, val_loader)"
      ],
      "execution_count": 143,
      "outputs": [
        {
          "output_type": "stream",
          "text": [
            "Epoch [20], val_loss: 6759.0034\n",
            "Epoch [40], val_loss: 6758.6523\n",
            "Epoch [60], val_loss: 6758.3003\n",
            "Epoch [80], val_loss: 6757.9385\n",
            "Epoch [100], val_loss: 6757.5659\n",
            "Epoch [120], val_loss: 6757.1963\n",
            "Epoch [140], val_loss: 6756.8301\n",
            "Epoch [150], val_loss: 6756.6489\n"
          ],
          "name": "stdout"
        }
      ]
    },
    {
      "cell_type": "code",
      "metadata": {
        "id": "OqT_JlW6jcbt",
        "colab_type": "code",
        "colab": {
          "base_uri": "https://localhost:8080/",
          "height": 199
        },
        "outputId": "c8364f6d-4c65-4093-eaec-d57678749401"
      },
      "source": [
        "epochs = 200\n",
        "lr = 1e-5\n",
        "history5 = fit(epochs, lr, model, train_loader, val_loader)"
      ],
      "execution_count": 144,
      "outputs": [
        {
          "output_type": "stream",
          "text": [
            "Epoch [20], val_loss: 6756.6123\n",
            "Epoch [40], val_loss: 6756.5742\n",
            "Epoch [60], val_loss: 6756.5376\n",
            "Epoch [80], val_loss: 6756.5000\n",
            "Epoch [100], val_loss: 6756.4634\n",
            "Epoch [120], val_loss: 6756.4258\n",
            "Epoch [140], val_loss: 6756.3877\n",
            "Epoch [160], val_loss: 6756.3506\n",
            "Epoch [180], val_loss: 6756.3140\n",
            "Epoch [200], val_loss: 6756.2759\n"
          ],
          "name": "stdout"
        }
      ]
    },
    {
      "cell_type": "markdown",
      "metadata": {
        "id": "WVg2lRwJjcbz",
        "colab_type": "text"
      },
      "source": [
        "**Q: What is the final validation loss of your model?**"
      ]
    },
    {
      "cell_type": "code",
      "metadata": {
        "id": "WGa1u2kLjcb0",
        "colab_type": "code",
        "colab": {
          "base_uri": "https://localhost:8080/",
          "height": 35
        },
        "outputId": "0685eed9-edae-4ce1-c009-962e47dd3475"
      },
      "source": [
        "val_loss = evaluate(model,val_loader)\n",
        "print(val_loss)"
      ],
      "execution_count": 162,
      "outputs": [
        {
          "output_type": "stream",
          "text": [
            "{'val_loss': 7009.94189453125}\n"
          ],
          "name": "stdout"
        }
      ]
    },
    {
      "cell_type": "markdown",
      "metadata": {
        "id": "BSioD2Dwjcb8",
        "colab_type": "text"
      },
      "source": [
        "Let's log the final validation loss to Jovian and commit the notebook"
      ]
    },
    {
      "cell_type": "code",
      "metadata": {
        "id": "WTMGy4ZWjcb9",
        "colab_type": "code",
        "colab": {}
      },
      "source": [
        "jovian.log_metrics(val_loss=val_loss)"
      ],
      "execution_count": 0,
      "outputs": []
    },
    {
      "cell_type": "code",
      "metadata": {
        "id": "bQLBKIxbjccG",
        "colab_type": "code",
        "colab": {}
      },
      "source": [
        "jovian.commit(project=project_name, environment=None)"
      ],
      "execution_count": 0,
      "outputs": []
    },
    {
      "cell_type": "markdown",
      "metadata": {
        "id": "yR81drAujccN",
        "colab_type": "text"
      },
      "source": [
        "Now scroll back up, re-initialize the model, and try different set of values for batch size, number of epochs, learning rate etc. Commit each experiment and use the \"Compare\" and \"View Diff\" options on Jovian to compare the different results."
      ]
    },
    {
      "cell_type": "markdown",
      "metadata": {
        "id": "gEuc1WqojccP",
        "colab_type": "text"
      },
      "source": [
        "## Step 5: Make predictions using the trained model\n",
        "\n",
        "**Q: Complete the following function definition to make predictions on a single input**"
      ]
    },
    {
      "cell_type": "code",
      "metadata": {
        "id": "jQbDBFyujccQ",
        "colab_type": "code",
        "colab": {}
      },
      "source": [
        "def predict_single(input, target, model):\n",
        "    inputs = input.unsqueeze(0)\n",
        "    predictions = model(inputs)                # fill this\n",
        "    prediction = predictions[0].detach()\n",
        "    print(\"Input:\", input)\n",
        "    print(\"Target:\", target)\n",
        "    print(\"Prediction:\", prediction)"
      ],
      "execution_count": 0,
      "outputs": []
    },
    {
      "cell_type": "code",
      "metadata": {
        "id": "w4CnGMX-jccd",
        "colab_type": "code",
        "colab": {
          "base_uri": "https://localhost:8080/",
          "height": 72
        },
        "outputId": "7f6a52dd-ecb3-421b-e294-1e25008d32e6"
      },
      "source": [
        "input, target = val_ds[0]\n",
        "predict_single(input, target, model)"
      ],
      "execution_count": 164,
      "outputs": [
        {
          "output_type": "stream",
          "text": [
            "Input: tensor([36.0000,  1.0000, 29.1460,  1.0000,  1.0000,  0.0000])\n",
            "Target: tensor([21812.3086])\n",
            "Prediction: tensor([34924.7422])\n"
          ],
          "name": "stdout"
        }
      ]
    },
    {
      "cell_type": "code",
      "metadata": {
        "id": "KxAYl4vpjccn",
        "colab_type": "code",
        "colab": {
          "base_uri": "https://localhost:8080/",
          "height": 72
        },
        "outputId": "f848d1e2-20c4-491e-aa43-badc2c2b1f87"
      },
      "source": [
        "input, target = val_ds[10]\n",
        "predict_single(input, target, model)"
      ],
      "execution_count": 165,
      "outputs": [
        {
          "output_type": "stream",
          "text": [
            "Input: tensor([40.0000,  1.0000, 27.3676,  1.0000,  0.0000,  1.0000])\n",
            "Target: tensor([6708.8467])\n",
            "Prediction: tensor([13325.1250])\n"
          ],
          "name": "stdout"
        }
      ]
    },
    {
      "cell_type": "code",
      "metadata": {
        "id": "SyjfTe0xjcc2",
        "colab_type": "code",
        "colab": {
          "base_uri": "https://localhost:8080/",
          "height": 72
        },
        "outputId": "97334667-a8e7-4c65-eab7-1673139c5232"
      },
      "source": [
        "input, target = val_ds[23]\n",
        "predict_single(input, target, model)"
      ],
      "execution_count": 166,
      "outputs": [
        {
          "output_type": "stream",
          "text": [
            "Input: tensor([64.0000,  0.0000, 35.1520,  1.0000,  1.0000,  3.0000])\n",
            "Target: tensor([50324.4297])\n",
            "Prediction: tensor([44676.0273])\n"
          ],
          "name": "stdout"
        }
      ]
    },
    {
      "cell_type": "markdown",
      "metadata": {
        "id": "i9tY-ySvjcc-",
        "colab_type": "text"
      },
      "source": [
        "Are you happy with your model's predictions? Try to improve them further."
      ]
    },
    {
      "cell_type": "markdown",
      "metadata": {
        "id": "-MJQvl44jcdA",
        "colab_type": "text"
      },
      "source": [
        "## (Optional) Step 6: Try another dataset & blog about it\n",
        "\n",
        "While this last step is optional for the submission of your assignment, we highly recommend that you do it. Try to clean up & replicate this notebook (or [this one](https://jovian.ml/aakashns/housing-linear-minimal), or [this one](https://jovian.ml/aakashns/mnist-logistic-minimal) ) for a different linear regression or logistic regression problem. This will help solidify your understanding, and give you a chance to differentiate the generic patters in machine learning from problem-specific details.\n",
        "\n",
        "Here are some sources to find good datasets:\n",
        "\n",
        "- https://lionbridge.ai/datasets/10-open-datasets-for-linear-regression/\n",
        "- https://www.kaggle.com/rtatman/datasets-for-regression-analysis\n",
        "- https://archive.ics.uci.edu/ml/datasets.php?format=&task=reg&att=&area=&numAtt=&numIns=&type=&sort=nameUp&view=table\n",
        "- https://people.sc.fsu.edu/~jburkardt/datasets/regression/regression.html\n",
        "- https://archive.ics.uci.edu/ml/datasets/wine+quality\n",
        "- https://pytorch.org/docs/stable/torchvision/datasets.html\n",
        "\n",
        "We also recommend that you write a blog about your approach to the problem. Here is a suggested structure for your post (feel free to experiment with it):\n",
        "\n",
        "- Interesting title & subtitle\n",
        "- Overview of what the blog covers (which dataset, linear regression or logistic regression, intro to PyTorch)\n",
        "- Downloading & exploring the data\n",
        "- Preparing the data for training\n",
        "- Creating a model using PyTorch\n",
        "- Training the model to fit the data\n",
        "- Your thoughts on how to experiment with different hyperparmeters to reduce loss\n",
        "- Making predictions using the model\n",
        "\n",
        "As with the previous assignment, you can [embed Juptyer notebook cells & outputs from Jovian](https://medium.com/jovianml/share-and-embed-jupyter-notebooks-online-with-jovian-ml-df709a03064e) into your blog. \n",
        "\n",
        "Don't forget to share your work on the forum: https://jovian.ml/forum/t/share-your-work-here-assignment-2/4931"
      ]
    },
    {
      "cell_type": "code",
      "metadata": {
        "id": "J1V63g-NjcdC",
        "colab_type": "code",
        "colab": {},
        "outputId": "c050aed0-203b-4552-a253-2113fa49eb79"
      },
      "source": [
        "jovian.commit(project=project_name, environment=None)\n",
        "jovian.commit(project=project_name, environment=None) # try again, kaggle fails sometimes"
      ],
      "execution_count": 0,
      "outputs": [
        {
          "output_type": "display_data",
          "data": {
            "application/javascript": [
              "window.require && require([\"base/js/namespace\"],function(Jupyter){Jupyter.notebook.save_checkpoint()})"
            ],
            "text/plain": [
              "<IPython.core.display.Javascript object>"
            ]
          },
          "metadata": {
            "tags": []
          }
        },
        {
          "output_type": "stream",
          "text": [
            "[jovian] Attempting to save notebook..\u001b[0m\n",
            "[jovian] Please enter your API key ( from https://jovian.ml/ ):\u001b[0m\n",
            "API KEY: ········\n",
            "[jovian] Creating a new project \"aakashns/02-insurance-linear-regression\"\u001b[0m\n",
            "[jovian] Uploading notebook..\u001b[0m\n",
            "[jovian] Committed successfully! https://jovian.ml/aakashns/02-insurance-linear-regression\u001b[0m\n"
          ],
          "name": "stdout"
        },
        {
          "output_type": "display_data",
          "data": {
            "application/javascript": [
              "window.require && require([\"base/js/namespace\"],function(Jupyter){Jupyter.notebook.save_checkpoint()})"
            ],
            "text/plain": [
              "<IPython.core.display.Javascript object>"
            ]
          },
          "metadata": {
            "tags": []
          }
        }
      ]
    },
    {
      "cell_type": "code",
      "metadata": {
        "id": "02Ybstf6jcdR",
        "colab_type": "code",
        "colab": {}
      },
      "source": [
        ""
      ],
      "execution_count": 0,
      "outputs": []
    }
  ]
}