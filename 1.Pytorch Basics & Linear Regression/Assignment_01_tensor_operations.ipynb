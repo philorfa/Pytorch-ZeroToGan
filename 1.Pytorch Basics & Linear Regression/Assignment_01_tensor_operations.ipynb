{
  "nbformat": 4,
  "nbformat_minor": 0,
  "metadata": {
    "kernelspec": {
      "display_name": "Python 3",
      "language": "python",
      "name": "python3"
    },
    "language_info": {
      "codemirror_mode": {
        "name": "ipython",
        "version": 3
      },
      "file_extension": ".py",
      "mimetype": "text/x-python",
      "name": "python",
      "nbconvert_exporter": "python",
      "pygments_lexer": "ipython3",
      "version": "3.7.6"
    },
    "colab": {
      "name": "Assignment 01-tensor-operations.ipynb",
      "provenance": []
    }
  },
  "cells": [
    {
      "cell_type": "markdown",
      "metadata": {
        "id": "yHyLacZjGDrT",
        "colab_type": "text"
      },
      "source": [
        "# 5 interesting Pytorch - Tensor functions\n",
        "\n",
        "\n",
        "\n",
        "An short introduction about PyTorch and about the chosen functions. \n",
        "- torch.arange\n",
        "- torch.normal\n",
        "- torch.reshape\n",
        "- torch.sort\n",
        "- torch.unfold\n"
      ]
    },
    {
      "cell_type": "code",
      "metadata": {
        "id": "k3YkbB3PGDrW",
        "colab_type": "code",
        "colab": {}
      },
      "source": [
        "# Import torch and other required modules\n",
        "import torch"
      ],
      "execution_count": 0,
      "outputs": []
    },
    {
      "cell_type": "markdown",
      "metadata": {
        "id": "wV_KaQtLGDrj",
        "colab_type": "text"
      },
      "source": [
        "## Function 1 - torch.arange\n",
        "\n",
        "Returns a 1-D tensor of size ((end - start)/step)\n",
        "​with values from the interval [start, end) taken with common difference step beginning from start.\n",
        "\n",
        "Basic parameters :\n",
        "- start (Number) – the starting value for the set of points. Default: 0.\n",
        "\n",
        "- end (Number) – the ending value for the set of points\n",
        "\n",
        "- step (Number) – the gap between each pair of adjacent points. Default:1."
      ]
    },
    {
      "cell_type": "code",
      "metadata": {
        "id": "BP9LPffwGDrm",
        "colab_type": "code",
        "colab": {
          "base_uri": "https://localhost:8080/",
          "height": 35
        },
        "outputId": "fa8e826e-54e1-4504-c1c2-3b01c4cda28c"
      },
      "source": [
        "# Example 1 - working \n",
        "torch.arange(2, 5)"
      ],
      "execution_count": 2,
      "outputs": [
        {
          "output_type": "execute_result",
          "data": {
            "text/plain": [
              "tensor([2, 3, 4])"
            ]
          },
          "metadata": {
            "tags": []
          },
          "execution_count": 2
        }
      ]
    },
    {
      "cell_type": "markdown",
      "metadata": {
        "id": "LxO0wEgmGDrz",
        "colab_type": "text"
      },
      "source": [
        "start = 2 , end = 5 , step = 1(Default) , so the output must be\n",
        "a tensor with values (2,2+1,2+1+1) "
      ]
    },
    {
      "cell_type": "code",
      "metadata": {
        "id": "IidFcPVZGDr0",
        "colab_type": "code",
        "colab": {
          "base_uri": "https://localhost:8080/",
          "height": 35
        },
        "outputId": "fc0d5bea-f8d9-41b8-a341-65c946216f10"
      },
      "source": [
        "# Example 2 - working\n",
        "torch.arange(1, 2.5, 0.5)"
      ],
      "execution_count": 3,
      "outputs": [
        {
          "output_type": "execute_result",
          "data": {
            "text/plain": [
              "tensor([1.0000, 1.5000, 2.0000])"
            ]
          },
          "metadata": {
            "tags": []
          },
          "execution_count": 3
        }
      ]
    },
    {
      "cell_type": "markdown",
      "metadata": {
        "id": "i1jQ-i8jGDsB",
        "colab_type": "text"
      },
      "source": [
        "Since its a tensor -> Single Data Type then all elements will be floats\n",
        "start = 1.0 , end = 2.5 step = 0.5 so the output must be\n",
        "a tensor with values (1.0,1.0+0.5,1.0+0.5+0.5) "
      ]
    },
    {
      "cell_type": "code",
      "metadata": {
        "id": "YOClDTHnGDsD",
        "colab_type": "code",
        "colab": {
          "base_uri": "https://localhost:8080/",
          "height": 189
        },
        "outputId": "2a3a83e9-31c1-444e-f0e7-be68a54d103f"
      },
      "source": [
        "# Example 3 - breaking (to illustrate when it breaks)\n",
        "torch.arange(3, 2)"
      ],
      "execution_count": 4,
      "outputs": [
        {
          "output_type": "error",
          "ename": "RuntimeError",
          "evalue": "ignored",
          "traceback": [
            "\u001b[0;31m---------------------------------------------------------------------------\u001b[0m",
            "\u001b[0;31mRuntimeError\u001b[0m                              Traceback (most recent call last)",
            "\u001b[0;32m<ipython-input-4-b3ebdcee0c57>\u001b[0m in \u001b[0;36m<module>\u001b[0;34m()\u001b[0m\n\u001b[1;32m      1\u001b[0m \u001b[0;31m# Example 3 - breaking (to illustrate when it breaks)\u001b[0m\u001b[0;34m\u001b[0m\u001b[0;34m\u001b[0m\u001b[0;34m\u001b[0m\u001b[0m\n\u001b[0;32m----> 2\u001b[0;31m \u001b[0mtorch\u001b[0m\u001b[0;34m.\u001b[0m\u001b[0marange\u001b[0m\u001b[0;34m(\u001b[0m\u001b[0;36m3\u001b[0m\u001b[0;34m,\u001b[0m \u001b[0;36m2\u001b[0m\u001b[0;34m)\u001b[0m\u001b[0;34m\u001b[0m\u001b[0;34m\u001b[0m\u001b[0m\n\u001b[0m",
            "\u001b[0;31mRuntimeError\u001b[0m: upper bound and larger bound inconsistent with step sign"
          ]
        }
      ]
    },
    {
      "cell_type": "markdown",
      "metadata": {
        "id": "JNQPMQIbGDsS",
        "colab_type": "text"
      },
      "source": [
        "Error because start>end and step >0"
      ]
    },
    {
      "cell_type": "markdown",
      "metadata": {
        "id": "_P6hVNd5GDsU",
        "colab_type": "text"
      },
      "source": [
        "Use it to get an 1-D tensor with desirable pattern"
      ]
    },
    {
      "cell_type": "markdown",
      "metadata": {
        "id": "dGRrl_Q-GDsV",
        "colab_type": "text"
      },
      "source": [
        "## Function 2 - torch.normal\n",
        "\n",
        "Returns a tensor of random numbers drawn from separate normal distributions whose mean and standard deviation are given.\n",
        "\n",
        "Basic Parameters:\n",
        "- mean (Tensor) – the tensor of per-element means\n",
        "\n",
        "- std (Tensor) – the tensor of per-element standard deviations"
      ]
    },
    {
      "cell_type": "code",
      "metadata": {
        "id": "DyuyiDPjGDsW",
        "colab_type": "code",
        "colab": {
          "base_uri": "https://localhost:8080/",
          "height": 35
        },
        "outputId": "1bebd49c-4454-4452-b291-cdb58531fa6f"
      },
      "source": [
        "# Example 1 - working\n",
        "torch.normal(2, 3, size=(1, 4))"
      ],
      "execution_count": 5,
      "outputs": [
        {
          "output_type": "execute_result",
          "data": {
            "text/plain": [
              "tensor([[-2.6948,  4.7232, -4.1147, -0.4934]])"
            ]
          },
          "metadata": {
            "tags": []
          },
          "execution_count": 5
        }
      ]
    },
    {
      "cell_type": "markdown",
      "metadata": {
        "id": "IZ0ErC3PGDsc",
        "colab_type": "text"
      },
      "source": [
        "Each element comes from a normal distribution with :\n",
        "\n",
        "mean = 2, std = 3\n",
        "\n",
        "Size will be a 1-D tensor with 4 elements"
      ]
    },
    {
      "cell_type": "code",
      "metadata": {
        "id": "o8WEqEf3GDsd",
        "colab_type": "code",
        "colab": {
          "base_uri": "https://localhost:8080/",
          "height": 35
        },
        "outputId": "11cac7f8-fcf9-4a36-cae9-d8a7403a50d8"
      },
      "source": [
        "# Example 2 - working\n",
        "torch.normal(mean=torch.arange(0.0,3.0), std=torch.arange(0, 0.3, 0.1))"
      ],
      "execution_count": 6,
      "outputs": [
        {
          "output_type": "execute_result",
          "data": {
            "text/plain": [
              "tensor([0.0000, 0.9798, 1.8692])"
            ]
          },
          "metadata": {
            "tags": []
          },
          "execution_count": 6
        }
      ]
    },
    {
      "cell_type": "markdown",
      "metadata": {
        "id": "B8WCl711GDsk",
        "colab_type": "text"
      },
      "source": [
        "Each element comes from a normal distribution with :\n",
        "\n",
        "mean = [0,1,2] , std = [0,0.1,0.2]\n",
        "\n",
        "Size will be a 1-D tensor with 3 elements"
      ]
    },
    {
      "cell_type": "code",
      "metadata": {
        "id": "zoDb4AWXGDsl",
        "colab_type": "code",
        "colab": {
          "base_uri": "https://localhost:8080/",
          "height": 209
        },
        "outputId": "7e9f36df-ba8f-4a43-f599-34533c3991e0"
      },
      "source": [
        "# Example 3 - breaking (to illustrate when it breaks)\n",
        "torch.normal(mean=torch.arange(0.0,3.0), std=torch.arange(0, 0.3, 0.2))"
      ],
      "execution_count": 7,
      "outputs": [
        {
          "output_type": "error",
          "ename": "RuntimeError",
          "evalue": "ignored",
          "traceback": [
            "\u001b[0;31m---------------------------------------------------------------------------\u001b[0m",
            "\u001b[0;31mRuntimeError\u001b[0m                              Traceback (most recent call last)",
            "\u001b[0;32m<ipython-input-7-ca8140100489>\u001b[0m in \u001b[0;36m<module>\u001b[0;34m()\u001b[0m\n\u001b[1;32m      1\u001b[0m \u001b[0;31m# Example 3 - breaking (to illustrate when it breaks)\u001b[0m\u001b[0;34m\u001b[0m\u001b[0;34m\u001b[0m\u001b[0;34m\u001b[0m\u001b[0m\n\u001b[0;32m----> 2\u001b[0;31m \u001b[0mtorch\u001b[0m\u001b[0;34m.\u001b[0m\u001b[0mnormal\u001b[0m\u001b[0;34m(\u001b[0m\u001b[0mmean\u001b[0m\u001b[0;34m=\u001b[0m\u001b[0mtorch\u001b[0m\u001b[0;34m.\u001b[0m\u001b[0marange\u001b[0m\u001b[0;34m(\u001b[0m\u001b[0;36m0.0\u001b[0m\u001b[0;34m,\u001b[0m\u001b[0;36m3.0\u001b[0m\u001b[0;34m)\u001b[0m\u001b[0;34m,\u001b[0m \u001b[0mstd\u001b[0m\u001b[0;34m=\u001b[0m\u001b[0mtorch\u001b[0m\u001b[0;34m.\u001b[0m\u001b[0marange\u001b[0m\u001b[0;34m(\u001b[0m\u001b[0;36m0\u001b[0m\u001b[0;34m,\u001b[0m \u001b[0;36m0.3\u001b[0m\u001b[0;34m,\u001b[0m \u001b[0;36m0.2\u001b[0m\u001b[0;34m)\u001b[0m\u001b[0;34m)\u001b[0m\u001b[0;34m\u001b[0m\u001b[0;34m\u001b[0m\u001b[0m\n\u001b[0m",
            "\u001b[0;31mRuntimeError\u001b[0m: inconsistent tensor, std and mean are not broadcastable and have different number of elements, expected mean [3] and std [2] to have same number of elements)"
          ]
        }
      ]
    },
    {
      "cell_type": "markdown",
      "metadata": {
        "id": "NgRClEKsGDsv",
        "colab_type": "text"
      },
      "source": [
        "mean and std must have the same size !"
      ]
    },
    {
      "cell_type": "markdown",
      "metadata": {
        "id": "Sr-mKRnPGDsx",
        "colab_type": "text"
      },
      "source": [
        "Use it when u want a initialized tensor , useful for bias and weights"
      ]
    },
    {
      "cell_type": "markdown",
      "metadata": {
        "id": "Lr55rTVfGDsz",
        "colab_type": "text"
      },
      "source": [
        "## Function 3 - torch.reshape\n",
        "\n",
        "Returns a tensor with the same data and number of elements as input, but with the specified shape.\n",
        "\n",
        "Basic Parameters:\n",
        "- input (Tensor) – the tensor to be reshaped\n",
        "\n",
        "- shape (tuple of python:ints) – the new shape\n",
        "\n",
        "A single dimension may be -1, in which case it’s inferred from the remaining dimensions and the number of elements in input."
      ]
    },
    {
      "cell_type": "code",
      "metadata": {
        "id": "_rSs7h4pGDs0",
        "colab_type": "code",
        "colab": {
          "base_uri": "https://localhost:8080/",
          "height": 108
        },
        "outputId": "badced76-7008-4344-a65e-3b14032a6e43"
      },
      "source": [
        "# Example 1 - working\n",
        "a = torch.tensor([[0, 1], [2, 3]])\n",
        "a=torch.reshape(a, (4, 1))\n",
        "print(a)\n",
        "a.size()"
      ],
      "execution_count": 17,
      "outputs": [
        {
          "output_type": "stream",
          "text": [
            "tensor([[0],\n",
            "        [1],\n",
            "        [2],\n",
            "        [3]])\n"
          ],
          "name": "stdout"
        },
        {
          "output_type": "execute_result",
          "data": {
            "text/plain": [
              "torch.Size([4, 1])"
            ]
          },
          "metadata": {
            "tags": []
          },
          "execution_count": 17
        }
      ]
    },
    {
      "cell_type": "markdown",
      "metadata": {
        "id": "aZ5Wp5xUGDs-",
        "colab_type": "text"
      },
      "source": [
        "We define a [2,2] tensor and reshape it to a [4,1] tensor"
      ]
    },
    {
      "cell_type": "code",
      "metadata": {
        "id": "qDAwxPteGDs_",
        "colab_type": "code",
        "colab": {
          "base_uri": "https://localhost:8080/",
          "height": 72
        },
        "outputId": "e6970ec0-b211-48a6-d320-527d3ca50571"
      },
      "source": [
        "# Example 2 - working\n",
        "a = torch.arange(4.)\n",
        "a=torch.reshape(a,(2,-1))\n",
        "print(a)\n",
        "a.size()"
      ],
      "execution_count": 18,
      "outputs": [
        {
          "output_type": "stream",
          "text": [
            "tensor([[0., 1.],\n",
            "        [2., 3.]])\n"
          ],
          "name": "stdout"
        },
        {
          "output_type": "execute_result",
          "data": {
            "text/plain": [
              "torch.Size([2, 2])"
            ]
          },
          "metadata": {
            "tags": []
          },
          "execution_count": 18
        }
      ]
    },
    {
      "cell_type": "markdown",
      "metadata": {
        "id": "EBp-jXEUGDtG",
        "colab_type": "text"
      },
      "source": [
        "We define a Tensor with size [4] and reshape it to [2,-1] , -1 must fit so in this case -1=2"
      ]
    },
    {
      "cell_type": "code",
      "metadata": {
        "id": "whNn7k35GDtH",
        "colab_type": "code",
        "colab": {
          "base_uri": "https://localhost:8080/",
          "height": 207
        },
        "outputId": "76f154e7-e2ef-49fa-f406-cc17bf672fe5"
      },
      "source": [
        "# Example 3 - breaking (to illustrate when it breaks)\n",
        "a = torch.arange(4.)\n",
        "a=torch.reshape(a,(3,-1))"
      ],
      "execution_count": 19,
      "outputs": [
        {
          "output_type": "error",
          "ename": "RuntimeError",
          "evalue": "ignored",
          "traceback": [
            "\u001b[0;31m---------------------------------------------------------------------------\u001b[0m",
            "\u001b[0;31mRuntimeError\u001b[0m                              Traceback (most recent call last)",
            "\u001b[0;32m<ipython-input-19-f857b2e18b6c>\u001b[0m in \u001b[0;36m<module>\u001b[0;34m()\u001b[0m\n\u001b[1;32m      1\u001b[0m \u001b[0;31m# Example 3 - breaking (to illustrate when it breaks)\u001b[0m\u001b[0;34m\u001b[0m\u001b[0;34m\u001b[0m\u001b[0;34m\u001b[0m\u001b[0m\n\u001b[1;32m      2\u001b[0m \u001b[0ma\u001b[0m \u001b[0;34m=\u001b[0m \u001b[0mtorch\u001b[0m\u001b[0;34m.\u001b[0m\u001b[0marange\u001b[0m\u001b[0;34m(\u001b[0m\u001b[0;36m4.\u001b[0m\u001b[0;34m)\u001b[0m\u001b[0;34m\u001b[0m\u001b[0;34m\u001b[0m\u001b[0m\n\u001b[0;32m----> 3\u001b[0;31m \u001b[0ma\u001b[0m\u001b[0;34m=\u001b[0m\u001b[0mtorch\u001b[0m\u001b[0;34m.\u001b[0m\u001b[0mreshape\u001b[0m\u001b[0;34m(\u001b[0m\u001b[0ma\u001b[0m\u001b[0;34m,\u001b[0m\u001b[0;34m(\u001b[0m\u001b[0;36m3\u001b[0m\u001b[0;34m,\u001b[0m\u001b[0;34m-\u001b[0m\u001b[0;36m1\u001b[0m\u001b[0;34m)\u001b[0m\u001b[0;34m)\u001b[0m\u001b[0;34m\u001b[0m\u001b[0;34m\u001b[0m\u001b[0m\n\u001b[0m",
            "\u001b[0;31mRuntimeError\u001b[0m: shape '[3, -1]' is invalid for input of size 4"
          ]
        }
      ]
    },
    {
      "cell_type": "markdown",
      "metadata": {
        "id": "rMlfiRo6GDtN",
        "colab_type": "text"
      },
      "source": [
        "[3,-1] is invalid , there is no valid value for -1 "
      ]
    },
    {
      "cell_type": "markdown",
      "metadata": {
        "id": "ltUBfg7HGDtN",
        "colab_type": "text"
      },
      "source": [
        "Use it to reshape tensors\n"
      ]
    },
    {
      "cell_type": "markdown",
      "metadata": {
        "id": "ZaIgcM5HGDtO",
        "colab_type": "text"
      },
      "source": [
        "## Function 4 - torch.sort\n",
        "\n",
        "Sorts the elements of the input tensor along a given dimension in ascending order by value.\n",
        "\n",
        "Basic Parameters:\n",
        "- input (Tensor) – the input tensor.\n",
        "\n",
        "- dim (int, optional) – the dimension to sort along\n",
        "\n",
        "- descending (bool, optional) – controls the sorting order (ascending or descending)\n",
        "\n",
        "\n",
        "A namedtuple of (values, indices) is returned, where the values are the sorted values and indices are the indices of the elements in the original input tensor."
      ]
    },
    {
      "cell_type": "code",
      "metadata": {
        "id": "xxuuqs_JGDtP",
        "colab_type": "code",
        "colab": {
          "base_uri": "https://localhost:8080/",
          "height": 54
        },
        "outputId": "2668c6a3-8901-4310-e78e-de2446272151"
      },
      "source": [
        "# Example 1 - working\n",
        "a=torch.arange(-2, -5,-1)\n",
        "sorted, indices = torch.sort(a)\n",
        "print(sorted)\n",
        "print(indices)"
      ],
      "execution_count": 20,
      "outputs": [
        {
          "output_type": "stream",
          "text": [
            "tensor([-4, -3, -2])\n",
            "tensor([2, 1, 0])\n"
          ],
          "name": "stdout"
        }
      ]
    },
    {
      "cell_type": "markdown",
      "metadata": {
        "id": "aKg4ogDJGDtW",
        "colab_type": "text"
      },
      "source": [
        "We sort [-2,-3,-4] \n",
        "\n",
        "descending=False"
      ]
    },
    {
      "cell_type": "code",
      "metadata": {
        "id": "VFAaT3CuGDtX",
        "colab_type": "code",
        "colab": {
          "base_uri": "https://localhost:8080/",
          "height": 54
        },
        "outputId": "4810f77e-7731-45ac-f312-7b64156e3b9a"
      },
      "source": [
        "# Example 2 - working\n",
        "a=torch.arange(2, 5)\n",
        "sorted, indices = torch.sort(a,descending=True)\n",
        "print(sorted)\n",
        "print(indices)"
      ],
      "execution_count": 21,
      "outputs": [
        {
          "output_type": "stream",
          "text": [
            "tensor([4, 3, 2])\n",
            "tensor([2, 1, 0])\n"
          ],
          "name": "stdout"
        }
      ]
    },
    {
      "cell_type": "markdown",
      "metadata": {
        "id": "c7aCu_y-GDtc",
        "colab_type": "text"
      },
      "source": [
        "We sort [2,3,4] \n",
        "\n",
        "descending=True"
      ]
    },
    {
      "cell_type": "code",
      "metadata": {
        "id": "u4_lkUYtGDtd",
        "colab_type": "code",
        "colab": {
          "base_uri": "https://localhost:8080/",
          "height": 207
        },
        "outputId": "800a2e2b-d569-4676-f4e4-fa8df3b390c3"
      },
      "source": [
        "# Example 3 - breaking (to illustrate when it breaks)\n",
        "a = torch.tensor([[0, 1], [2, 3]])\n",
        "sorted, indices = torch.sort(a,dim=2)\n"
      ],
      "execution_count": 22,
      "outputs": [
        {
          "output_type": "error",
          "ename": "IndexError",
          "evalue": "ignored",
          "traceback": [
            "\u001b[0;31m---------------------------------------------------------------------------\u001b[0m",
            "\u001b[0;31mIndexError\u001b[0m                                Traceback (most recent call last)",
            "\u001b[0;32m<ipython-input-22-d4a029f490d1>\u001b[0m in \u001b[0;36m<module>\u001b[0;34m()\u001b[0m\n\u001b[1;32m      1\u001b[0m \u001b[0;31m# Example 3 - breaking (to illustrate when it breaks)\u001b[0m\u001b[0;34m\u001b[0m\u001b[0;34m\u001b[0m\u001b[0;34m\u001b[0m\u001b[0m\n\u001b[1;32m      2\u001b[0m \u001b[0ma\u001b[0m \u001b[0;34m=\u001b[0m \u001b[0mtorch\u001b[0m\u001b[0;34m.\u001b[0m\u001b[0mtensor\u001b[0m\u001b[0;34m(\u001b[0m\u001b[0;34m[\u001b[0m\u001b[0;34m[\u001b[0m\u001b[0;36m0\u001b[0m\u001b[0;34m,\u001b[0m \u001b[0;36m1\u001b[0m\u001b[0;34m]\u001b[0m\u001b[0;34m,\u001b[0m \u001b[0;34m[\u001b[0m\u001b[0;36m2\u001b[0m\u001b[0;34m,\u001b[0m \u001b[0;36m3\u001b[0m\u001b[0;34m]\u001b[0m\u001b[0;34m]\u001b[0m\u001b[0;34m)\u001b[0m\u001b[0;34m\u001b[0m\u001b[0;34m\u001b[0m\u001b[0m\n\u001b[0;32m----> 3\u001b[0;31m \u001b[0msorted\u001b[0m\u001b[0;34m,\u001b[0m \u001b[0mindices\u001b[0m \u001b[0;34m=\u001b[0m \u001b[0mtorch\u001b[0m\u001b[0;34m.\u001b[0m\u001b[0msort\u001b[0m\u001b[0;34m(\u001b[0m\u001b[0ma\u001b[0m\u001b[0;34m,\u001b[0m\u001b[0mdim\u001b[0m\u001b[0;34m=\u001b[0m\u001b[0;36m2\u001b[0m\u001b[0;34m)\u001b[0m\u001b[0;34m\u001b[0m\u001b[0;34m\u001b[0m\u001b[0m\n\u001b[0m",
            "\u001b[0;31mIndexError\u001b[0m: Dimension out of range (expected to be in range of [-2, 1], but got 2)"
          ]
        }
      ]
    },
    {
      "cell_type": "markdown",
      "metadata": {
        "id": "EosTzE9_GDtk",
        "colab_type": "text"
      },
      "source": [
        "Dimension parameter is not valid , valid values=[-2,-1,0,1]"
      ]
    },
    {
      "cell_type": "markdown",
      "metadata": {
        "id": "SZVhZJWYGDtl",
        "colab_type": "text"
      },
      "source": [
        "Use it to sort tensors"
      ]
    },
    {
      "cell_type": "markdown",
      "metadata": {
        "id": "jizLIG8YGDtm",
        "colab_type": "text"
      },
      "source": [
        "## Function 5 - torch.unfold\n",
        "\n",
        "Returns a view of the original tensor which contains all slices of size size from self tensor in the dimension dimension.\n",
        "\n",
        "Step between two slices is given by step.\n",
        "\n",
        "If sizedim is the size of dimension dimension for self, the size of dimension dimension in the returned tensor will be (sizedim - size) / step + 1.\n",
        "\n",
        "Basic parameters:\n",
        "- dimension (int) – dimension in which unfolding happens\n",
        "\n",
        "- size (int) – the size of each slice that is unfolded\n",
        "\n",
        "- step (int) – the step between each slice"
      ]
    },
    {
      "cell_type": "code",
      "metadata": {
        "id": "QdC3qC_cGDtn",
        "colab_type": "code",
        "colab": {
          "base_uri": "https://localhost:8080/",
          "height": 108
        },
        "outputId": "027f3f6c-b6c2-42d1-e97f-1d44dd483cc3"
      },
      "source": [
        "# Example 1 - working\n",
        "x = torch.tensor([0,1,2,3,4,5])\n",
        "x.unfold(0, 2, 1)"
      ],
      "execution_count": 23,
      "outputs": [
        {
          "output_type": "execute_result",
          "data": {
            "text/plain": [
              "tensor([[0, 1],\n",
              "        [1, 2],\n",
              "        [2, 3],\n",
              "        [3, 4],\n",
              "        [4, 5]])"
            ]
          },
          "metadata": {
            "tags": []
          },
          "execution_count": 23
        }
      ]
    },
    {
      "cell_type": "markdown",
      "metadata": {
        "id": "j9710l2kGDt0",
        "colab_type": "text"
      },
      "source": [
        "Its a form of reshape , each slise has size 2 and with step 1 we go from [0,1]->[1,2] etc"
      ]
    },
    {
      "cell_type": "code",
      "metadata": {
        "id": "zAx30w3WGDt1",
        "colab_type": "code",
        "colab": {
          "base_uri": "https://localhost:8080/",
          "height": 72
        },
        "outputId": "acdf321e-bc7f-42ae-8022-5b3db3b77408"
      },
      "source": [
        "# Example 2 - working\n",
        "x = torch.tensor([\n",
        "     [1, 2, 3],\n",
        "     [4, 5, 6]\n",
        "   ])\n",
        "x.unfold(1, 2, 2)"
      ],
      "execution_count": 24,
      "outputs": [
        {
          "output_type": "execute_result",
          "data": {
            "text/plain": [
              "tensor([[[1, 2]],\n",
              "\n",
              "        [[4, 5]]])"
            ]
          },
          "metadata": {
            "tags": []
          },
          "execution_count": 24
        }
      ]
    },
    {
      "cell_type": "markdown",
      "metadata": {
        "id": "ys1rLtuGGDt9",
        "colab_type": "text"
      },
      "source": [
        "With step = 2 and size = 2 and dim = 1 we skip one value , which cannot be obtained"
      ]
    },
    {
      "cell_type": "code",
      "metadata": {
        "id": "NwI4AoyqGDt_",
        "colab_type": "code",
        "colab": {
          "base_uri": "https://localhost:8080/",
          "height": 207
        },
        "outputId": "ac220354-a65f-43b1-d9a9-ae929e4476e7"
      },
      "source": [
        "# Example 3 - breaking (to illustrate when it breaks)\n",
        "\n",
        "x = torch.tensor([\n",
        "     [1, 2, 3],\n",
        "     [4, 5, 6]\n",
        "   ])\n",
        "x.unfold(1, 4, 2)"
      ],
      "execution_count": 25,
      "outputs": [
        {
          "output_type": "error",
          "ename": "RuntimeError",
          "evalue": "ignored",
          "traceback": [
            "\u001b[0;31m---------------------------------------------------------------------------\u001b[0m",
            "\u001b[0;31mRuntimeError\u001b[0m                              Traceback (most recent call last)",
            "\u001b[0;32m<ipython-input-25-eaefc1f4c706>\u001b[0m in \u001b[0;36m<module>\u001b[0;34m()\u001b[0m\n\u001b[1;32m      5\u001b[0m      \u001b[0;34m[\u001b[0m\u001b[0;36m4\u001b[0m\u001b[0;34m,\u001b[0m \u001b[0;36m5\u001b[0m\u001b[0;34m,\u001b[0m \u001b[0;36m6\u001b[0m\u001b[0;34m]\u001b[0m\u001b[0;34m\u001b[0m\u001b[0;34m\u001b[0m\u001b[0m\n\u001b[1;32m      6\u001b[0m    ])\n\u001b[0;32m----> 7\u001b[0;31m \u001b[0mx\u001b[0m\u001b[0;34m.\u001b[0m\u001b[0munfold\u001b[0m\u001b[0;34m(\u001b[0m\u001b[0;36m1\u001b[0m\u001b[0;34m,\u001b[0m \u001b[0;36m4\u001b[0m\u001b[0;34m,\u001b[0m \u001b[0;36m2\u001b[0m\u001b[0;34m)\u001b[0m\u001b[0;34m\u001b[0m\u001b[0;34m\u001b[0m\u001b[0m\n\u001b[0m",
            "\u001b[0;31mRuntimeError\u001b[0m: maximum size for tensor at dimension 1 is 3 but size is 4"
          ]
        }
      ]
    },
    {
      "cell_type": "markdown",
      "metadata": {
        "id": "hVmTzVZPGDuG",
        "colab_type": "text"
      },
      "source": [
        "Size of the slice must be valid "
      ]
    },
    {
      "cell_type": "markdown",
      "metadata": {
        "id": "svWmx7VEGDuI",
        "colab_type": "text"
      },
      "source": [
        "Use it when you want to transform your tensor using the existing elements"
      ]
    },
    {
      "cell_type": "markdown",
      "metadata": {
        "id": "owHUV4iwGDuL",
        "colab_type": "text"
      },
      "source": [
        "## Conclusion\n",
        "\n",
        "We explored some interesting pytorch function , which can be used in the future in order to create valid tensors for our deep neural networks"
      ]
    },
    {
      "cell_type": "markdown",
      "metadata": {
        "id": "eP3GIGx8GDuM",
        "colab_type": "text"
      },
      "source": [
        "## Reference Links\n",
        "Provide links to your references and other interesting articles about tensors\n",
        "* Official documentation for `torch.Tensor`: https://pytorch.org/docs/stable/tensors.html"
      ]
    }
  ]
}